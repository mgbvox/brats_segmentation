{
 "cells": [
  {
   "cell_type": "code",
   "execution_count": 3,
   "metadata": {},
   "outputs": [
    {
     "name": "stdout",
     "output_type": "stream",
     "text": [
      "mkdir: cannot create directory ‘/root’: Permission denied\n",
      "mkdir: cannot create directory ‘/root’: Permission denied\n",
      "ln: failed to create symbolic link ‘/content’: Permission denied\n",
      "ln: failed to create symbolic link ‘/content’: Permission denied\n",
      "Updating fastai...\n",
      "\u001b[33mYou are using pip version 10.0.1, however version 19.2.3 is available.\n",
      "You should consider upgrading via the 'pip install --upgrade pip' command.\u001b[0m\n",
      "Done.\n"
     ]
    }
   ],
   "source": [
    "!curl -s https://course.fast.ai/setup/colab | bash\n",
    "!pip install --upgrade --quiet pip\n",
    "!pip install --upgrade --quiet nibabel pydicom medpy\n",
    "!pip install --upgrade --quiet SimpleITK"
   ]
  },
  {
   "cell_type": "code",
   "execution_count": 4,
   "metadata": {},
   "outputs": [
    {
     "name": "stdout",
     "output_type": "stream",
     "text": [
      "Populating the interactive namespace from numpy and matplotlib\n"
     ]
    }
   ],
   "source": [
    "%pylab inline\n",
    "import nibabel\n",
    "import pydicom\n",
    "import medpy\n",
    "import SimpleITK\n",
    "from fastai.vision import *\n",
    "import os\n",
    "\n",
    "import torch\n",
    "#Save and load:\n",
    "#torch.save(tensor, 'file.pt') and torch.load('file.pt')"
   ]
  },
  {
   "cell_type": "code",
   "execution_count": 43,
   "metadata": {},
   "outputs": [],
   "source": [
    "def sitk_show(img, title=None, margin=0.0, dpi=40):\n",
    "    nda = SimpleITK.GetArrayFromImage(img)\n",
    "    #spacing = img.GetSpacing()\n",
    "    figsize = (1 + margin) * nda.shape[0] / dpi, (1 + margin) * nda.shape[1] / dpi\n",
    "    #extent = (0, nda.shape[1]*spacing[1], nda.shape[0]*spacing[0], 0)\n",
    "    extent = (0, nda.shape[1], nda.shape[0], 0)\n",
    "    fig = plt.figure(figsize=figsize, dpi=dpi)\n",
    "    ax = fig.add_axes([margin, margin, 1 - 2*margin, 1 - 2*margin])\n",
    "\n",
    "    plt.set_cmap(\"gray\")\n",
    "    ax.imshow(nda,extent=extent,interpolation=None)\n",
    "    \n",
    "    if title:\n",
    "        plt.title(title)\n",
    "    \n",
    "    plt.show()\n",
    "\n",
    "def load_vol(path, get_sitk=False):\n",
    "    path = str(path) #correct for Posix Path types.\n",
    "    img = SimpleITK.ReadImage(path)\n",
    "    vol = SimpleITK.GetArrayFromImage(img)\n",
    "    if get_sitk:\n",
    "        return (vol, img)\n",
    "    else:\n",
    "        return vol\n",
    "\n",
    "def basic_norm(arr):\n",
    "    a_min = np.min(arr)\n",
    "    a_max = np.max(arr)\n",
    "    \n",
    "    if a_min==a_max:\n",
    "        #The image is blank\n",
    "        return np.zeros(arr.shape)\n",
    "    else:\n",
    "        add_min = arr + a_min\n",
    "        norm = add_min / a_max\n",
    "        return norm\n",
    "    \n",
    "def vol_norm(vol):\n",
    "    #Normalizes entire volume at once.\n",
    "    return basic_norm(vol)\n",
    "\n",
    "def slice_norm(vol):\n",
    "    #Normalizes each slice\n",
    "    return np.array([basic_norm(s) for s in vol])"
   ]
  },
  {
   "cell_type": "markdown",
   "metadata": {},
   "source": [
    "\n",
    "## Gameplan:\n",
    "<li>Get patient</li>\n",
    "<li>Grab volumes and mask volume</li>\n",
    "<li>Load volumes, split into images.</li>\n",
    "<li>Normalize the images and stack.</li>\n",
    "<li>Save!</li>"
   ]
  },
  {
   "cell_type": "code",
   "execution_count": 51,
   "metadata": {},
   "outputs": [],
   "source": [
    "def grab_mhas(path):\n",
    "    posix_path = pathlib.Path(path)\n",
    "    files = np.array([[q for q in p.ls() if '.txt' not in str(q)]\\\n",
    "                      for p in pathlib.Path(patients[0]).ls()]).ravel()\n",
    "    return ([f for f in files if 'OT' not in f.name], [f for f in files if 'OT' in f.name])"
   ]
  },
  {
   "cell_type": "code",
   "execution_count": 52,
   "metadata": {},
   "outputs": [],
   "source": [
    "patients = []\n",
    "for path, dirs, files in os.walk('./brats_2015/'):\n",
    "    if 'Testing' not in path: #No Masks\n",
    "        for d in dirs:\n",
    "            if 'pat' in d and not 'brats_2013' in d: #Ignore data from the wrong year.\n",
    "                patients.append(os.path.join(path,d))\n",
    "\n",
    "patients[0]\n",
    "xs, y = grab_mhas(patients[68])\n",
    "vol, s_vol = load_vol(xs[0], get_sitk=True)"
   ]
  },
  {
   "cell_type": "markdown",
   "metadata": {},
   "source": [
    "\n",
    "### Do we want to Bias Correct?\n"
   ]
  },
  {
   "cell_type": "code",
   "execution_count": 16,
   "metadata": {},
   "outputs": [],
   "source": [
    "def bias_correct(img, levels=4, its_per_level=50):\n",
    "    inputImage = SimpleITK.Cast(img, SimpleITK.sitkFloat32 )\n",
    "    corrector = SimpleITK.N4BiasFieldCorrectionImageFilter()\n",
    "    numberFittingLevels = levels\n",
    "    corrector.SetMaximumNumberOfIterations( [ its_per_level ] *numberFittingLevels  )\n",
    "    output = corrector.Execute(inputImage)\n",
    "    return output"
   ]
  },
  {
   "cell_type": "code",
   "execution_count": 17,
   "metadata": {},
   "outputs": [
    {
     "data": {
      "image/png": "[encoded data removed]",
      "text/plain": [
       "<Figure size 240x240 with 1 Axes>"
      ]
     },
     "metadata": {},
     "output_type": "display_data"
    }
   ],
   "source": [
    "#Bias correction is possible, but would take a LONG time. (time per slice ~ 1 second)\n",
    "sitk_show(bias_correct(s_vol[:,:,67]))"
   ]
  },
  {
   "cell_type": "code",
   "execution_count": 55,
   "metadata": {},
   "outputs": [],
   "source": [
    "#This grabs all patient folders.\n",
    "patients = []\n",
    "for path, dirs, files in os.walk('./brats_2015/'):\n",
    "    if 'Testing' not in path: #No Masks\n",
    "        for d in dirs:\n",
    "            if 'pat' in d and not 'brats_2013' in d: #Ignore data from the wrong year.\n",
    "                patients.append(os.path.join(path,d))\n",
    "\n",
    "\n",
    "\n",
    "'''\n",
    "This will be in a for loop.\n",
    "'''\n",
    "\n",
    "xs, y = grab_mhas(patients['INSERT SOMETHING HERE'])\n",
    "\n",
    "#Grab patient ID from filename\n",
    "pid = xs[0].name.split('.')[-2]\n",
    "\n",
    "#Run slicewise normalization on each volume\n",
    "vols_list = [slice_norm(load_vol(x)) for x in xs]\n",
    "\n",
    "#Also load the mask volume\n",
    "mask_vol = load_vol(y[0])\n",
    "\n",
    "#Stick everything together\n",
    "vols_list.append(mask_vol)\n",
    "vols = np.array(vols_list)\n",
    "\n",
    "#Grab the number of slices.\n",
    "n_slices = vols.shape[1]\n",
    "\n",
    "\n",
    "#Modify output files here:\n",
    "for s in range(n_slices):\n",
    "    a,b,c,d,m = vols[:,s,:,:]\n",
    "    tensor = torch.from_numpy(np.stack([a,b,c,d], axis=2))\n",
    "    #Specifically this one...\n",
    "    torch.save(tensor,f'./test_dump/{pid}_{s}.pt')\n",
    "    mask_tensor = torch.from_numpy(m)\n",
    "    #And this one.\n",
    "    torch.save(mask_tensor,f'./test_dump/mask_{pid}_{s}.pt')"
   ]
  },
  {
   "cell_type": "code",
   "execution_count": 56,
   "metadata": {},
   "outputs": [
    {
     "data": {
      "text/plain": [
       "torch.Size([240, 240, 4])"
      ]
     },
     "execution_count": 56,
     "metadata": {},
     "output_type": "execute_result"
    }
   ],
   "source": []
  },
  {
   "cell_type": "code",
   "execution_count": 135,
   "metadata": {},
   "outputs": [
    {
     "data": {
      "text/plain": [
       "<matplotlib.image.AxesImage at 0x7ff5d0fe2828>"
      ]
     },
     "execution_count": 135,
     "metadata": {},
     "output_type": "execute_result"
    },
    {
     "data": {
      "image/png": "[encoded data removed]",
      "text/plain": [
       "<Figure size 432x288 with 1 Axes>"
      ]
     },
     "metadata": {},
     "output_type": "display_data"
    }
   ],
   "source": [
    "plt.imshow(vols[4,70,:,:])"
   ]
  },
  {
   "cell_type": "code",
   "execution_count": 57,
   "metadata": {},
   "outputs": [
    {
     "data": {
      "text/plain": [
       "<matplotlib.image.AxesImage at 0x7ff72b9990f0>"
      ]
     },
     "execution_count": 57,
     "metadata": {},
     "output_type": "execute_result"
    },
    {
     "data": {
      "image/png": "[encoded data removed]",
      "text/plain": [
       "<Figure size 432x288 with 1 Axes>"
      ]
     },
     "metadata": {},
     "output_type": "display_data"
    }
   ],
   "source": [
    "plt.imshow(torch.load('./test_dump/mask_35588_80.pt'))"
   ]
  },
  {
   "cell_type": "code",
   "execution_count": 58,
   "metadata": {},
   "outputs": [
    {
     "data": {
      "text/plain": [
       "<matplotlib.image.AxesImage at 0x7ff72b96a390>"
      ]
     },
     "execution_count": 58,
     "metadata": {},
     "output_type": "execute_result"
    },
    {
     "data": {
      "image/png": "[encoded data removed]",
      "text/plain": [
       "<Figure size 432x288 with 1 Axes>"
      ]
     },
     "metadata": {},
     "output_type": "display_data"
    }
   ],
   "source": [
    "plt.imshow(torch.load('./test_dump/35588_80.pt')[:,:,2])"
   ]
  },
  {
   "cell_type": "code",
   "execution_count": null,
   "metadata": {},
   "outputs": [],
   "source": []
  }
 ],
 "metadata": {
  "kernelspec": {
   "display_name": "conda_pytorch_p36",
   "language": "python",
   "name": "conda_pytorch_p36"
  },
  "language_info": {
   "codemirror_mode": {
    "name": "ipython",
    "version": 3
   },
   "file_extension": ".py",
   "mimetype": "text/x-python",
   "name": "python",
   "nbconvert_exporter": "python",
   "pygments_lexer": "ipython3",
   "version": "3.6.5"
  }
 },
 "nbformat": 4,
 "nbformat_minor": 4
}
