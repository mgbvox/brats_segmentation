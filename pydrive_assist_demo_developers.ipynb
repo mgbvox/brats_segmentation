{
 "cells": [
  {
   "cell_type": "code",
   "execution_count": 1,
   "metadata": {},
   "outputs": [
    {
     "name": "stdout",
     "output_type": "stream",
     "text": [
      "\u001b[31mfastai 1.0.55 requires nvidia-ml-py3, which is not installed.\u001b[0m\n",
      "\u001b[31mthinc 6.12.1 has requirement msgpack<0.6.0,>=0.5.6, but you'll have msgpack 0.6.0 which is incompatible.\u001b[0m\n"
     ]
    }
   ],
   "source": [
    "#Run this to install/upgrade necessary packages.\n",
    "%load_ext autoreload\n",
    "%autoreload 2\n",
    "\n",
    "!pip install --upgrade --quiet pip\n",
    "!pip install --upgrade --quiet PyDrive"
   ]
  },
  {
   "cell_type": "code",
   "execution_count": 2,
   "metadata": {},
   "outputs": [],
   "source": [
    "from pydrive_assist import *"
   ]
  },
  {
   "cell_type": "code",
   "execution_count": 3,
   "metadata": {},
   "outputs": [
    {
     "name": "stdout",
     "output_type": "stream",
     "text": [
      "Go to the following link in your browser:\n",
      "\n",
      "    https://accounts.google.com/o/oauth2/auth?client_id=12034167130-mihjtvqjv1pj3bgio51b8sue12cnfu74.apps.googleusercontent.com&redirect_uri=urn%3Aietf%3Awg%3Aoauth%3A2.0%3Aoob&scope=https%3A%2F%2Fwww.googleapis.com%2Fauth%2Fdrive&access_type=offline&response_type=code\n",
      "\n"
     ]
    },
    {
     "name": "stdin",
     "output_type": "stream",
     "text": [
      "Enter verification code:  4/qwEd_JL3Q2351HlKHiTM6VgnXwlPdX65tzyLrYQ1YIYhmb_HIYPp9Rw\n"
     ]
    },
    {
     "name": "stdout",
     "output_type": "stream",
     "text": [
      "Authentication successful.\n"
     ]
    }
   ],
   "source": [
    "drive = authorize()"
   ]
  },
  {
   "cell_type": "code",
   "execution_count": 4,
   "metadata": {},
   "outputs": [
    {
     "data": {
      "text/plain": [
       "0    PyDrive-Assist_Tests | 16F1Kgc_89IeOFKueuXSX8l...\n",
       "1     Cutting Room | 1mkmL9PoeFDifxCX6MnbpkUwbrCS7V2Wk\n",
       "2    Lineup | 1rW7pYYBZODSE9eWuecqMuPKVlJI9Mcea-HIJ...\n",
       "3               JT | 1vHi316bcKtG8eaLyXbM2H7eUkuAxOVSU\n",
       "4    Tiny Dancer - (MD) Piano.pdf | 0B59hffontj8ldU...\n",
       "5    Breweries San Diego | 1-gO8skWo4ojvsCknokzo6LU...\n",
       "6       kent_l.zip | 1Nrauov_XKssHpekV8JS3AQb8ILDI7aII\n",
       "7    Floyd Collins PV.pdf | 1Ddv7xNihAR9wHTQJe8YS1N...\n",
       "8            _CATALYST_ | 0B59hffontj8lYlg5RGNVNTdJU0E\n",
       "9         Datasets | 1xVCA0ZWjP2hluD4DzuWOeT1Lxg9zwXQ5\n",
       "dtype: object"
      ]
     },
     "execution_count": 4,
     "metadata": {},
     "output_type": "execute_result"
    }
   ],
   "source": [
    "files = list_drive_contents(drive)\n",
    "files[:10]"
   ]
  },
  {
   "cell_type": "code",
   "execution_count": null,
   "metadata": {},
   "outputs": [],
   "source": [
    "'''\n",
    "NOT DEMO:\n",
    "'''"
   ]
  },
  {
   "cell_type": "code",
   "execution_count": 8,
   "metadata": {},
   "outputs": [],
   "source": [
    "ds_root = drive_search('Dataset', drive)[0]"
   ]
  },
  {
   "cell_type": "code",
   "execution_count": 11,
   "metadata": {},
   "outputs": [],
   "source": [
    "brats_root = ds_root.ls()[0]\n",
    "local_brats_root = './'"
   ]
  },
  {
   "cell_type": "code",
   "execution_count": 12,
   "metadata": {},
   "outputs": [
    {
     "name": "stdout",
     "output_type": "stream",
     "text": [
      "test.png\n",
      "23_logs\n",
      "BRATS2015_Training\n"
     ]
    }
   ],
   "source": [
    "for f in brats_root.ls():\n",
    "    if f.is_dir:\n",
    "        print(d'{f.name}')"
   ]
  },
  {
   "cell_type": "code",
   "execution_count": null,
   "metadata": {},
   "outputs": [],
   "source": []
  },
  {
   "cell_type": "code",
   "execution_count": null,
   "metadata": {},
   "outputs": [],
   "source": []
  },
  {
   "cell_type": "code",
   "execution_count": null,
   "metadata": {},
   "outputs": [],
   "source": [
    "'''\n",
    "^^^^\n",
    "NOT DEMO\n",
    "'''"
   ]
  },
  {
   "cell_type": "markdown",
   "metadata": {},
   "source": [
    "# Reset Demo"
   ]
  },
  {
   "cell_type": "code",
   "execution_count": 5,
   "metadata": {},
   "outputs": [],
   "source": [
    "!rm -rf test_downloads/"
   ]
  },
  {
   "cell_type": "markdown",
   "metadata": {},
   "source": [
    "# Downloads"
   ]
  },
  {
   "cell_type": "code",
   "execution_count": 8,
   "metadata": {},
   "outputs": [
    {
     "data": {
      "text/plain": [
       "[Tiny Dancer - (MD) Piano.pdf | 0B59hffontj8ldUwyMmNIb3ZtU0d1R29sTEY3YnVKZ3dWWXc0]"
      ]
     },
     "execution_count": 8,
     "metadata": {},
     "output_type": "execute_result"
    }
   ],
   "source": [
    "drive_search('Tiny', drive)"
   ]
  },
  {
   "cell_type": "code",
   "execution_count": 9,
   "metadata": {},
   "outputs": [],
   "source": [
    "pdf = drive_search('Tiny', drive)[0]"
   ]
  },
  {
   "cell_type": "code",
   "execution_count": 10,
   "metadata": {},
   "outputs": [
    {
     "name": "stdout",
     "output_type": "stream",
     "text": [
      "Downloading Tiny Dancer - (MD) Piano.pdf to ./test_downloads/\n"
     ]
    }
   ],
   "source": [
    "os.mkdir('./test_downloads/')\n",
    "pdf.download('./test_downloads/')"
   ]
  },
  {
   "cell_type": "markdown",
   "metadata": {},
   "source": [
    "# Uploads"
   ]
  },
  {
   "cell_type": "code",
   "execution_count": 11,
   "metadata": {},
   "outputs": [
    {
     "data": {
      "text/plain": [
       "0    PyDrive-Assist_Tests | 16F1Kgc_89IeOFKueuXSX8l...\n",
       "1     Cutting Room | 1mkmL9PoeFDifxCX6MnbpkUwbrCS7V2Wk\n",
       "2    Lineup | 1rW7pYYBZODSE9eWuecqMuPKVlJI9Mcea-HIJ...\n",
       "3               JT | 1vHi316bcKtG8eaLyXbM2H7eUkuAxOVSU\n",
       "4    Tiny Dancer - (MD) Piano.pdf | 0B59hffontj8ldU...\n",
       "dtype: object"
      ]
     },
     "execution_count": 11,
     "metadata": {},
     "output_type": "execute_result"
    }
   ],
   "source": [
    "list_drive_contents(drive).head()"
   ]
  },
  {
   "cell_type": "code",
   "execution_count": 12,
   "metadata": {},
   "outputs": [
    {
     "data": {
      "text/plain": [
       "[PyDrive-Assist_Tests | 16F1Kgc_89IeOFKueuXSX8ls1cUx4f6ic]"
      ]
     },
     "execution_count": 12,
     "metadata": {},
     "output_type": "execute_result"
    }
   ],
   "source": [
    "drive_search('PyDrive', drive)"
   ]
  },
  {
   "cell_type": "code",
   "execution_count": 30,
   "metadata": {},
   "outputs": [],
   "source": [
    "tests_dir = drive_search('PyDrive', drive)[0]"
   ]
  },
  {
   "cell_type": "code",
   "execution_count": 31,
   "metadata": {},
   "outputs": [
    {
     "data": {
      "text/plain": [
       "('./PyDrive-Assist_Tests', '16F1Kgc_89IeOFKueuXSX8ls1cUx4f6ic')"
      ]
     },
     "execution_count": 31,
     "metadata": {},
     "output_type": "execute_result"
    }
   ],
   "source": [
    "tests_dir.path, tests_dir.id"
   ]
  },
  {
   "cell_type": "code",
   "execution_count": 32,
   "metadata": {},
   "outputs": [
    {
     "data": {
      "text/plain": [
       "True"
      ]
     },
     "execution_count": 32,
     "metadata": {},
     "output_type": "execute_result"
    }
   ],
   "source": [
    "tests_dir.is_dir"
   ]
  },
  {
   "cell_type": "code",
   "execution_count": 33,
   "metadata": {},
   "outputs": [
    {
     "data": {
      "text/plain": [
       "0    asdf.pdf | 1T2xbDvR6NYkDc6ZdR64Zu0cdK9xmeWIH\n",
       "dtype: object"
      ]
     },
     "execution_count": 33,
     "metadata": {},
     "output_type": "execute_result"
    }
   ],
   "source": [
    "tests_dir.ls()"
   ]
  },
  {
   "cell_type": "code",
   "execution_count": 34,
   "metadata": {},
   "outputs": [
    {
     "name": "stdout",
     "output_type": "stream",
     "text": [
      "Uploading Tiny_Dancer.pdf to ./PyDrive-Assist_Tests\n"
     ]
    }
   ],
   "source": [
    "tests_dir.upload('./test_downloads/Tiny Dancer - (MD) Piano.pdf', name='Tiny_Dancer.pdf')"
   ]
  },
  {
   "cell_type": "code",
   "execution_count": 36,
   "metadata": {},
   "outputs": [
    {
     "data": {
      "text/plain": [
       "0    Tiny_Dancer.pdf | 1EXjJvlNWWvS7eN1hDyNPUFLNf9g...\n",
       "1         asdf.pdf | 1T2xbDvR6NYkDc6ZdR64Zu0cdK9xmeWIH\n",
       "dtype: object"
      ]
     },
     "execution_count": 36,
     "metadata": {},
     "output_type": "execute_result"
    }
   ],
   "source": [
    "tests_dir.ls()"
   ]
  },
  {
   "cell_type": "code",
   "execution_count": 37,
   "metadata": {},
   "outputs": [
    {
     "data": {
      "text/plain": [
       "(PyDrive-Assist_Tests | 16F1Kgc_89IeOFKueuXSX8ls1cUx4f6ic,\n",
       " './PyDrive-Assist_Tests/Tiny_Dancer.pdf',\n",
       " '1EXjJvlNWWvS7eN1hDyNPUFLNf9gNA_eM')"
      ]
     },
     "execution_count": 37,
     "metadata": {},
     "output_type": "execute_result"
    }
   ],
   "source": [
    "tests_dir.ls()[0].parent, tests_dir.ls()[0].path, tests_dir.ls()[0].id"
   ]
  },
  {
   "cell_type": "code",
   "execution_count": 38,
   "metadata": {},
   "outputs": [
    {
     "data": {
      "text/plain": [
       "0       mkdir_test | 1sktzU1aQSg336-pIiU-9-s_IJLqB1xgB\n",
       "1    Tiny_Dancer.pdf | 1EXjJvlNWWvS7eN1hDyNPUFLNf9g...\n",
       "2         asdf.pdf | 1T2xbDvR6NYkDc6ZdR64Zu0cdK9xmeWIH\n",
       "dtype: object"
      ]
     },
     "execution_count": 38,
     "metadata": {},
     "output_type": "execute_result"
    }
   ],
   "source": [
    "tests_dir.mkdir(name='mkdir_test')\n",
    "tests_dir.ls()"
   ]
  },
  {
   "cell_type": "code",
   "execution_count": 39,
   "metadata": {},
   "outputs": [
    {
     "data": {
      "text/plain": [
       "(PyDrive-Assist_Tests | 16F1Kgc_89IeOFKueuXSX8ls1cUx4f6ic,\n",
       " './PyDrive-Assist_Tests/mkdir_test',\n",
       " '1sktzU1aQSg336-pIiU-9-s_IJLqB1xgB')"
      ]
     },
     "execution_count": 39,
     "metadata": {},
     "output_type": "execute_result"
    }
   ],
   "source": [
    "new_dir = tests_dir.ls()[0]\n",
    "new_dir.parent, new_dir.path, new_dir.id"
   ]
  },
  {
   "cell_type": "code",
   "execution_count": 40,
   "metadata": {},
   "outputs": [
    {
     "name": "stdout",
     "output_type": "stream",
     "text": [
      "Uploading Tiny_Two.pdf to ./PyDrive-Assist_Tests/mkdir_test\n"
     ]
    }
   ],
   "source": [
    "new_dir.upload('./test_downloads/Tiny Dancer - (MD) Piano.pdf', name='Tiny_Two.pdf')"
   ]
  },
  {
   "cell_type": "markdown",
   "metadata": {},
   "source": [
    "# Archive Uploads (faster)"
   ]
  },
  {
   "cell_type": "code",
   "execution_count": 41,
   "metadata": {},
   "outputs": [
    {
     "name": "stdout",
     "output_type": "stream",
     "text": [
      "Uploading test_downloads to drive:./PyDrive-Assist_Tests/mkdir_test.\n"
     ]
    }
   ],
   "source": [
    "arch_upload('./test_downloads', drive, parent=new_dir)"
   ]
  },
  {
   "cell_type": "code",
   "execution_count": null,
   "metadata": {},
   "outputs": [],
   "source": []
  },
  {
   "cell_type": "code",
   "execution_count": 45,
   "metadata": {},
   "outputs": [],
   "source": [
    "ds = drive_search('Datasets', drive)[0]"
   ]
  },
  {
   "cell_type": "code",
   "execution_count": 48,
   "metadata": {},
   "outputs": [],
   "source": [
    "brats = ds.ls()[0]"
   ]
  },
  {
   "cell_type": "code",
   "execution_count": 50,
   "metadata": {},
   "outputs": [
    {
     "data": {
      "text/plain": [
       "'./Datasets/brats_2015'"
      ]
     },
     "execution_count": 50,
     "metadata": {},
     "output_type": "execute_result"
    }
   ],
   "source": [
    "brats.path"
   ]
  },
  {
   "cell_type": "code",
   "execution_count": 51,
   "metadata": {},
   "outputs": [],
   "source": [
    "brats.set_to_root()"
   ]
  },
  {
   "cell_type": "code",
   "execution_count": 53,
   "metadata": {},
   "outputs": [
    {
     "data": {
      "text/plain": [
       "'./brats_2015'"
      ]
     },
     "execution_count": 53,
     "metadata": {},
     "output_type": "execute_result"
    }
   ],
   "source": [
    "brats.path"
   ]
  },
  {
   "cell_type": "code",
   "execution_count": 54,
   "metadata": {},
   "outputs": [],
   "source": [
    "os.mkdir(brats.path)"
   ]
  },
  {
   "cell_type": "code",
   "execution_count": null,
   "metadata": {
    "collapsed": true,
    "jupyter": {
     "outputs_hidden": true
    }
   },
   "outputs": [
    {
     "name": "stdout",
     "output_type": "stream",
     "text": [
      "./brats_2015/test.png\n",
      "Downloading test.png to ./brats_2015/test.png\n",
      "Error. Likely, either downloading this file is impossible (e.g., there is no download link), or destination path does not exist.\n",
      "./brats_2015/23_logs\n",
      "Making ./brats_2015/23_logs\n",
      "./brats_2015/23_logs/validation\n",
      "Making ./brats_2015/23_logs/validation\n",
      "./brats_2015/23_logs/validation/events.out.tfevents.1562270757.DESKTOP-OO64DM8.9876.3142.v2\n",
      "Downloading events.out.tfevents.1562270757.DESKTOP-OO64DM8.9876.3142.v2 to ./brats_2015/23_logs/validation/events.out.tfevents.1562270757.DESKTOP-OO64DM8.9876.3142.v2\n",
      "Error. Likely, either downloading this file is impossible (e.g., there is no download link), or destination path does not exist.\n",
      "./brats_2015/23_logs/validation/events.out.tfevents.1562270184.DESKTOP-OO64DM8.9876.431.v2\n",
      "Downloading events.out.tfevents.1562270184.DESKTOP-OO64DM8.9876.431.v2 to ./brats_2015/23_logs/validation/events.out.tfevents.1562270184.DESKTOP-OO64DM8.9876.431.v2\n",
      "Error. Likely, either downloading this file is impossible (e.g., there is no download link), or destination path does not exist.\n",
      "./brats_2015/23_logs/validation/events.out.tfevents.1562020231.DESKTOP-OO64DM8.22788.1986.v2\n",
      "Downloading events.out.tfevents.1562020231.DESKTOP-OO64DM8.22788.1986.v2 to ./brats_2015/23_logs/validation/events.out.tfevents.1562020231.DESKTOP-OO64DM8.22788.1986.v2\n",
      "Error. Likely, either downloading this file is impossible (e.g., there is no download link), or destination path does not exist.\n",
      "./brats_2015/23_logs/validation/events.out.tfevents.1562022634.DESKTOP-OO64DM8.1840.431.v2\n",
      "Downloading events.out.tfevents.1562022634.DESKTOP-OO64DM8.1840.431.v2 to ./brats_2015/23_logs/validation/events.out.tfevents.1562022634.DESKTOP-OO64DM8.1840.431.v2\n",
      "Error. Likely, either downloading this file is impossible (e.g., there is no download link), or destination path does not exist.\n",
      "./brats_2015/23_logs/validation/events.out.tfevents.1562021392.DESKTOP-OO64DM8.10820.431.v2\n",
      "Downloading events.out.tfevents.1562021392.DESKTOP-OO64DM8.10820.431.v2 to ./brats_2015/23_logs/validation/events.out.tfevents.1562021392.DESKTOP-OO64DM8.10820.431.v2\n",
      "Error. Likely, either downloading this file is impossible (e.g., there is no download link), or destination path does not exist.\n",
      "./brats_2015/23_logs/validation/events.out.tfevents.1562219661.DESKTOP-OO64DM8.12316.431.v2\n",
      "Downloading events.out.tfevents.1562219661.DESKTOP-OO64DM8.12316.431.v2 to ./brats_2015/23_logs/validation/events.out.tfevents.1562219661.DESKTOP-OO64DM8.12316.431.v2\n",
      "Error. Likely, either downloading this file is impossible (e.g., there is no download link), or destination path does not exist.\n",
      "./brats_2015/23_logs/validation/events.out.tfevents.1562267115.DESKTOP-OO64DM8.9792.431.v2\n",
      "Downloading events.out.tfevents.1562267115.DESKTOP-OO64DM8.9792.431.v2 to ./brats_2015/23_logs/validation/events.out.tfevents.1562267115.DESKTOP-OO64DM8.9792.431.v2\n",
      "Error. Likely, either downloading this file is impossible (e.g., there is no download link), or destination path does not exist.\n",
      "Done!\n",
      "./brats_2015/23_logs/Testing\n",
      "Making ./brats_2015/23_logs/Testing\n",
      "./brats_2015/23_logs/Testing/HGG_LGG\n",
      "Making ./brats_2015/23_logs/Testing/HGG_LGG\n",
      "./brats_2015/23_logs/Testing/HGG_LGG/brats_tcia_pat500_0832\n",
      "Making ./brats_2015/23_logs/Testing/HGG_LGG/brats_tcia_pat500_0832\n",
      "./brats_2015/23_logs/Testing/HGG_LGG/brats_tcia_pat500_0832/VSD.Brain.XX.O.MR_T1c.41200\n",
      "Making ./brats_2015/23_logs/Testing/HGG_LGG/brats_tcia_pat500_0832/VSD.Brain.XX.O.MR_T1c.41200\n",
      "./brats_2015/23_logs/Testing/HGG_LGG/brats_tcia_pat500_0832/VSD.Brain.XX.O.MR_T1c.41200/VSD.Brain.XX.O.MR_T1c.41200.mha\n",
      "Downloading VSD.Brain.XX.O.MR_T1c.41200.mha to ./brats_2015/23_logs/Testing/HGG_LGG/brats_tcia_pat500_0832/VSD.Brain.XX.O.MR_T1c.41200/VSD.Brain.XX.O.MR_T1c.41200.mha\n",
      "Error. Likely, either downloading this file is impossible (e.g., there is no download link), or destination path does not exist.\n",
      "./brats_2015/23_logs/Testing/HGG_LGG/brats_tcia_pat500_0832/VSD.Brain.XX.O.MR_T1c.41200/License_CC_BY_NC_SA_3.0.txt\n",
      "Downloading License_CC_BY_NC_SA_3.0.txt to ./brats_2015/23_logs/Testing/HGG_LGG/brats_tcia_pat500_0832/VSD.Brain.XX.O.MR_T1c.41200/License_CC_BY_NC_SA_3.0.txt\n",
      "Error. Likely, either downloading this file is impossible (e.g., there is no download link), or destination path does not exist.\n",
      "Done!\n",
      "./brats_2015/23_logs/Testing/HGG_LGG/brats_tcia_pat500_0832/VSD.Brain.XX.O.MR_Flair.41198\n",
      "Making ./brats_2015/23_logs/Testing/HGG_LGG/brats_tcia_pat500_0832/VSD.Brain.XX.O.MR_Flair.41198\n",
      "./brats_2015/23_logs/Testing/HGG_LGG/brats_tcia_pat500_0832/VSD.Brain.XX.O.MR_Flair.41198/VSD.Brain.XX.O.MR_Flair.41198.mha\n",
      "Downloading VSD.Brain.XX.O.MR_Flair.41198.mha to ./brats_2015/23_logs/Testing/HGG_LGG/brats_tcia_pat500_0832/VSD.Brain.XX.O.MR_Flair.41198/VSD.Brain.XX.O.MR_Flair.41198.mha\n",
      "Error. Likely, either downloading this file is impossible (e.g., there is no download link), or destination path does not exist.\n",
      "./brats_2015/23_logs/Testing/HGG_LGG/brats_tcia_pat500_0832/VSD.Brain.XX.O.MR_Flair.41198/License_CC_BY_NC_SA_3.0.txt\n",
      "Downloading License_CC_BY_NC_SA_3.0.txt to ./brats_2015/23_logs/Testing/HGG_LGG/brats_tcia_pat500_0832/VSD.Brain.XX.O.MR_Flair.41198/License_CC_BY_NC_SA_3.0.txt\n",
      "Error. Likely, either downloading this file is impossible (e.g., there is no download link), or destination path does not exist.\n",
      "Done!\n",
      "./brats_2015/23_logs/Testing/HGG_LGG/brats_tcia_pat500_0832/VSD.Brain.XX.O.MR_T2.41199\n",
      "Making ./brats_2015/23_logs/Testing/HGG_LGG/brats_tcia_pat500_0832/VSD.Brain.XX.O.MR_T2.41199\n",
      "./brats_2015/23_logs/Testing/HGG_LGG/brats_tcia_pat500_0832/VSD.Brain.XX.O.MR_T2.41199/VSD.Brain.XX.O.MR_T2.41199.mha\n",
      "Downloading VSD.Brain.XX.O.MR_T2.41199.mha to ./brats_2015/23_logs/Testing/HGG_LGG/brats_tcia_pat500_0832/VSD.Brain.XX.O.MR_T2.41199/VSD.Brain.XX.O.MR_T2.41199.mha\n",
      "Error. Likely, either downloading this file is impossible (e.g., there is no download link), or destination path does not exist.\n",
      "./brats_2015/23_logs/Testing/HGG_LGG/brats_tcia_pat500_0832/VSD.Brain.XX.O.MR_T2.41199/License_CC_BY_NC_SA_3.0.txt\n",
      "Downloading License_CC_BY_NC_SA_3.0.txt to ./brats_2015/23_logs/Testing/HGG_LGG/brats_tcia_pat500_0832/VSD.Brain.XX.O.MR_T2.41199/License_CC_BY_NC_SA_3.0.txt\n",
      "Error. Likely, either downloading this file is impossible (e.g., there is no download link), or destination path does not exist.\n",
      "Done!\n",
      "./brats_2015/23_logs/Testing/HGG_LGG/brats_tcia_pat500_0832/VSD.Brain.XX.O.MR_T1.41201\n",
      "Making ./brats_2015/23_logs/Testing/HGG_LGG/brats_tcia_pat500_0832/VSD.Brain.XX.O.MR_T1.41201\n",
      "./brats_2015/23_logs/Testing/HGG_LGG/brats_tcia_pat500_0832/VSD.Brain.XX.O.MR_T1.41201/VSD.Brain.XX.O.MR_T1.41201.mha\n",
      "Downloading VSD.Brain.XX.O.MR_T1.41201.mha to ./brats_2015/23_logs/Testing/HGG_LGG/brats_tcia_pat500_0832/VSD.Brain.XX.O.MR_T1.41201/VSD.Brain.XX.O.MR_T1.41201.mha\n",
      "Error. Likely, either downloading this file is impossible (e.g., there is no download link), or destination path does not exist.\n",
      "./brats_2015/23_logs/Testing/HGG_LGG/brats_tcia_pat500_0832/VSD.Brain.XX.O.MR_T1.41201/License_CC_BY_NC_SA_3.0.txt\n",
      "Downloading License_CC_BY_NC_SA_3.0.txt to ./brats_2015/23_logs/Testing/HGG_LGG/brats_tcia_pat500_0832/VSD.Brain.XX.O.MR_T1.41201/License_CC_BY_NC_SA_3.0.txt\n",
      "Error. Likely, either downloading this file is impossible (e.g., there is no download link), or destination path does not exist.\n",
      "Done!\n",
      "Done!\n",
      "./brats_2015/23_logs/Testing/HGG_LGG/brats_tcia_pat500_0867\n",
      "Making ./brats_2015/23_logs/Testing/HGG_LGG/brats_tcia_pat500_0867\n",
      "./brats_2015/23_logs/Testing/HGG_LGG/brats_tcia_pat500_0867/VSD.Brain.XX.O.MR_T1.41178\n",
      "Making ./brats_2015/23_logs/Testing/HGG_LGG/brats_tcia_pat500_0867/VSD.Brain.XX.O.MR_T1.41178\n",
      "./brats_2015/23_logs/Testing/HGG_LGG/brats_tcia_pat500_0867/VSD.Brain.XX.O.MR_T1.41178/VSD.Brain.XX.O.MR_T1.41178.mha\n",
      "Downloading VSD.Brain.XX.O.MR_T1.41178.mha to ./brats_2015/23_logs/Testing/HGG_LGG/brats_tcia_pat500_0867/VSD.Brain.XX.O.MR_T1.41178/VSD.Brain.XX.O.MR_T1.41178.mha\n",
      "Error. Likely, either downloading this file is impossible (e.g., there is no download link), or destination path does not exist.\n",
      "./brats_2015/23_logs/Testing/HGG_LGG/brats_tcia_pat500_0867/VSD.Brain.XX.O.MR_T1.41178/License_CC_BY_NC_SA_3.0.txt\n",
      "Downloading License_CC_BY_NC_SA_3.0.txt to ./brats_2015/23_logs/Testing/HGG_LGG/brats_tcia_pat500_0867/VSD.Brain.XX.O.MR_T1.41178/License_CC_BY_NC_SA_3.0.txt\n",
      "Error. Likely, either downloading this file is impossible (e.g., there is no download link), or destination path does not exist.\n",
      "Done!\n",
      "./brats_2015/23_logs/Testing/HGG_LGG/brats_tcia_pat500_0867/VSD.Brain.XX.O.MR_Flair.41175\n",
      "Making ./brats_2015/23_logs/Testing/HGG_LGG/brats_tcia_pat500_0867/VSD.Brain.XX.O.MR_Flair.41175\n",
      "./brats_2015/23_logs/Testing/HGG_LGG/brats_tcia_pat500_0867/VSD.Brain.XX.O.MR_Flair.41175/VSD.Brain.XX.O.MR_Flair.41175.mha\n",
      "Downloading VSD.Brain.XX.O.MR_Flair.41175.mha to ./brats_2015/23_logs/Testing/HGG_LGG/brats_tcia_pat500_0867/VSD.Brain.XX.O.MR_Flair.41175/VSD.Brain.XX.O.MR_Flair.41175.mha\n",
      "Error. Likely, either downloading this file is impossible (e.g., there is no download link), or destination path does not exist.\n",
      "./brats_2015/23_logs/Testing/HGG_LGG/brats_tcia_pat500_0867/VSD.Brain.XX.O.MR_Flair.41175/License_CC_BY_NC_SA_3.0.txt\n",
      "Downloading License_CC_BY_NC_SA_3.0.txt to ./brats_2015/23_logs/Testing/HGG_LGG/brats_tcia_pat500_0867/VSD.Brain.XX.O.MR_Flair.41175/License_CC_BY_NC_SA_3.0.txt\n",
      "Error. Likely, either downloading this file is impossible (e.g., there is no download link), or destination path does not exist.\n",
      "Done!\n",
      "./brats_2015/23_logs/Testing/HGG_LGG/brats_tcia_pat500_0867/VSD.Brain.XX.O.MR_T1c.41177\n",
      "Making ./brats_2015/23_logs/Testing/HGG_LGG/brats_tcia_pat500_0867/VSD.Brain.XX.O.MR_T1c.41177\n",
      "./brats_2015/23_logs/Testing/HGG_LGG/brats_tcia_pat500_0867/VSD.Brain.XX.O.MR_T1c.41177/VSD.Brain.XX.O.MR_T1c.41177.mha\n",
      "Downloading VSD.Brain.XX.O.MR_T1c.41177.mha to ./brats_2015/23_logs/Testing/HGG_LGG/brats_tcia_pat500_0867/VSD.Brain.XX.O.MR_T1c.41177/VSD.Brain.XX.O.MR_T1c.41177.mha\n",
      "Error. Likely, either downloading this file is impossible (e.g., there is no download link), or destination path does not exist.\n",
      "./brats_2015/23_logs/Testing/HGG_LGG/brats_tcia_pat500_0867/VSD.Brain.XX.O.MR_T1c.41177/License_CC_BY_NC_SA_3.0.txt\n",
      "Downloading License_CC_BY_NC_SA_3.0.txt to ./brats_2015/23_logs/Testing/HGG_LGG/brats_tcia_pat500_0867/VSD.Brain.XX.O.MR_T1c.41177/License_CC_BY_NC_SA_3.0.txt\n",
      "Error. Likely, either downloading this file is impossible (e.g., there is no download link), or destination path does not exist.\n",
      "Done!\n",
      "./brats_2015/23_logs/Testing/HGG_LGG/brats_tcia_pat500_0867/VSD.Brain.XX.O.MR_T2.41176\n",
      "Making ./brats_2015/23_logs/Testing/HGG_LGG/brats_tcia_pat500_0867/VSD.Brain.XX.O.MR_T2.41176\n",
      "./brats_2015/23_logs/Testing/HGG_LGG/brats_tcia_pat500_0867/VSD.Brain.XX.O.MR_T2.41176/VSD.Brain.XX.O.MR_T2.41176.mha\n",
      "Downloading VSD.Brain.XX.O.MR_T2.41176.mha to ./brats_2015/23_logs/Testing/HGG_LGG/brats_tcia_pat500_0867/VSD.Brain.XX.O.MR_T2.41176/VSD.Brain.XX.O.MR_T2.41176.mha\n",
      "Error. Likely, either downloading this file is impossible (e.g., there is no download link), or destination path does not exist.\n",
      "./brats_2015/23_logs/Testing/HGG_LGG/brats_tcia_pat500_0867/VSD.Brain.XX.O.MR_T2.41176/License_CC_BY_NC_SA_3.0.txt\n",
      "Downloading License_CC_BY_NC_SA_3.0.txt to ./brats_2015/23_logs/Testing/HGG_LGG/brats_tcia_pat500_0867/VSD.Brain.XX.O.MR_T2.41176/License_CC_BY_NC_SA_3.0.txt\n",
      "Error. Likely, either downloading this file is impossible (e.g., there is no download link), or destination path does not exist.\n",
      "Done!\n",
      "Done!\n",
      "./brats_2015/23_logs/Testing/HGG_LGG/brats_tcia_pat500_0852\n",
      "Making ./brats_2015/23_logs/Testing/HGG_LGG/brats_tcia_pat500_0852\n",
      "./brats_2015/23_logs/Testing/HGG_LGG/brats_tcia_pat500_0852/VSD.Brain.XX.O.MR_T2.41203\n",
      "Making ./brats_2015/23_logs/Testing/HGG_LGG/brats_tcia_pat500_0852/VSD.Brain.XX.O.MR_T2.41203\n",
      "./brats_2015/23_logs/Testing/HGG_LGG/brats_tcia_pat500_0852/VSD.Brain.XX.O.MR_T2.41203/VSD.Brain.XX.O.MR_T2.41203.mha\n",
      "Downloading VSD.Brain.XX.O.MR_T2.41203.mha to ./brats_2015/23_logs/Testing/HGG_LGG/brats_tcia_pat500_0852/VSD.Brain.XX.O.MR_T2.41203/VSD.Brain.XX.O.MR_T2.41203.mha\n",
      "Error. Likely, either downloading this file is impossible (e.g., there is no download link), or destination path does not exist.\n",
      "./brats_2015/23_logs/Testing/HGG_LGG/brats_tcia_pat500_0852/VSD.Brain.XX.O.MR_T2.41203/License_CC_BY_NC_SA_3.0.txt\n",
      "Downloading License_CC_BY_NC_SA_3.0.txt to ./brats_2015/23_logs/Testing/HGG_LGG/brats_tcia_pat500_0852/VSD.Brain.XX.O.MR_T2.41203/License_CC_BY_NC_SA_3.0.txt\n",
      "Error. Likely, either downloading this file is impossible (e.g., there is no download link), or destination path does not exist.\n",
      "Done!\n",
      "./brats_2015/23_logs/Testing/HGG_LGG/brats_tcia_pat500_0852/VSD.Brain.XX.O.MR_T1c.41204\n",
      "Making ./brats_2015/23_logs/Testing/HGG_LGG/brats_tcia_pat500_0852/VSD.Brain.XX.O.MR_T1c.41204\n",
      "./brats_2015/23_logs/Testing/HGG_LGG/brats_tcia_pat500_0852/VSD.Brain.XX.O.MR_T1c.41204/VSD.Brain.XX.O.MR_T1c.41204.mha\n",
      "Downloading VSD.Brain.XX.O.MR_T1c.41204.mha to ./brats_2015/23_logs/Testing/HGG_LGG/brats_tcia_pat500_0852/VSD.Brain.XX.O.MR_T1c.41204/VSD.Brain.XX.O.MR_T1c.41204.mha\n",
      "Error. Likely, either downloading this file is impossible (e.g., there is no download link), or destination path does not exist.\n",
      "./brats_2015/23_logs/Testing/HGG_LGG/brats_tcia_pat500_0852/VSD.Brain.XX.O.MR_T1c.41204/License_CC_BY_NC_SA_3.0.txt\n",
      "Downloading License_CC_BY_NC_SA_3.0.txt to ./brats_2015/23_logs/Testing/HGG_LGG/brats_tcia_pat500_0852/VSD.Brain.XX.O.MR_T1c.41204/License_CC_BY_NC_SA_3.0.txt\n",
      "Error. Likely, either downloading this file is impossible (e.g., there is no download link), or destination path does not exist.\n",
      "Done!\n",
      "./brats_2015/23_logs/Testing/HGG_LGG/brats_tcia_pat500_0852/VSD.Brain.XX.O.MR_T1.41205\n",
      "Making ./brats_2015/23_logs/Testing/HGG_LGG/brats_tcia_pat500_0852/VSD.Brain.XX.O.MR_T1.41205\n",
      "./brats_2015/23_logs/Testing/HGG_LGG/brats_tcia_pat500_0852/VSD.Brain.XX.O.MR_T1.41205/VSD.Brain.XX.O.MR_T1.41205.mha\n",
      "Downloading VSD.Brain.XX.O.MR_T1.41205.mha to ./brats_2015/23_logs/Testing/HGG_LGG/brats_tcia_pat500_0852/VSD.Brain.XX.O.MR_T1.41205/VSD.Brain.XX.O.MR_T1.41205.mha\n",
      "Error. Likely, either downloading this file is impossible (e.g., there is no download link), or destination path does not exist.\n",
      "./brats_2015/23_logs/Testing/HGG_LGG/brats_tcia_pat500_0852/VSD.Brain.XX.O.MR_T1.41205/License_CC_BY_NC_SA_3.0.txt\n",
      "Downloading License_CC_BY_NC_SA_3.0.txt to ./brats_2015/23_logs/Testing/HGG_LGG/brats_tcia_pat500_0852/VSD.Brain.XX.O.MR_T1.41205/License_CC_BY_NC_SA_3.0.txt\n",
      "Error. Likely, either downloading this file is impossible (e.g., there is no download link), or destination path does not exist.\n",
      "Done!\n",
      "./brats_2015/23_logs/Testing/HGG_LGG/brats_tcia_pat500_0852/VSD.Brain.XX.O.MR_Flair.41202\n",
      "Making ./brats_2015/23_logs/Testing/HGG_LGG/brats_tcia_pat500_0852/VSD.Brain.XX.O.MR_Flair.41202\n",
      "./brats_2015/23_logs/Testing/HGG_LGG/brats_tcia_pat500_0852/VSD.Brain.XX.O.MR_Flair.41202/VSD.Brain.XX.O.MR_Flair.41202.mha\n",
      "Downloading VSD.Brain.XX.O.MR_Flair.41202.mha to ./brats_2015/23_logs/Testing/HGG_LGG/brats_tcia_pat500_0852/VSD.Brain.XX.O.MR_Flair.41202/VSD.Brain.XX.O.MR_Flair.41202.mha\n",
      "Error. Likely, either downloading this file is impossible (e.g., there is no download link), or destination path does not exist.\n",
      "./brats_2015/23_logs/Testing/HGG_LGG/brats_tcia_pat500_0852/VSD.Brain.XX.O.MR_Flair.41202/License_CC_BY_NC_SA_3.0.txt\n",
      "Downloading License_CC_BY_NC_SA_3.0.txt to ./brats_2015/23_logs/Testing/HGG_LGG/brats_tcia_pat500_0852/VSD.Brain.XX.O.MR_Flair.41202/License_CC_BY_NC_SA_3.0.txt\n",
      "Error. Likely, either downloading this file is impossible (e.g., there is no download link), or destination path does not exist.\n",
      "Done!\n",
      "Done!\n",
      "./brats_2015/23_logs/Testing/HGG_LGG/brats_tcia_pat500_0771\n",
      "Making ./brats_2015/23_logs/Testing/HGG_LGG/brats_tcia_pat500_0771\n",
      "./brats_2015/23_logs/Testing/HGG_LGG/brats_tcia_pat500_0771/VSD.Brain.XX.O.MR_Flair.40799\n",
      "Making ./brats_2015/23_logs/Testing/HGG_LGG/brats_tcia_pat500_0771/VSD.Brain.XX.O.MR_Flair.40799\n",
      "./brats_2015/23_logs/Testing/HGG_LGG/brats_tcia_pat500_0771/VSD.Brain.XX.O.MR_Flair.40799/VSD.Brain.XX.O.MR_Flair.40799.mha\n",
      "Downloading VSD.Brain.XX.O.MR_Flair.40799.mha to ./brats_2015/23_logs/Testing/HGG_LGG/brats_tcia_pat500_0771/VSD.Brain.XX.O.MR_Flair.40799/VSD.Brain.XX.O.MR_Flair.40799.mha\n",
      "Error. Likely, either downloading this file is impossible (e.g., there is no download link), or destination path does not exist.\n",
      "./brats_2015/23_logs/Testing/HGG_LGG/brats_tcia_pat500_0771/VSD.Brain.XX.O.MR_Flair.40799/License_CC_BY_NC_SA_3.0.txt\n",
      "Downloading License_CC_BY_NC_SA_3.0.txt to ./brats_2015/23_logs/Testing/HGG_LGG/brats_tcia_pat500_0771/VSD.Brain.XX.O.MR_Flair.40799/License_CC_BY_NC_SA_3.0.txt\n",
      "Error. Likely, either downloading this file is impossible (e.g., there is no download link), or destination path does not exist.\n",
      "Done!\n",
      "./brats_2015/23_logs/Testing/HGG_LGG/brats_tcia_pat500_0771/VSD.Brain.XX.O.MR_T1c.40801\n",
      "Making ./brats_2015/23_logs/Testing/HGG_LGG/brats_tcia_pat500_0771/VSD.Brain.XX.O.MR_T1c.40801\n",
      "./brats_2015/23_logs/Testing/HGG_LGG/brats_tcia_pat500_0771/VSD.Brain.XX.O.MR_T1c.40801/VSD.Brain.XX.O.MR_T1c.40801.mha\n",
      "Downloading VSD.Brain.XX.O.MR_T1c.40801.mha to ./brats_2015/23_logs/Testing/HGG_LGG/brats_tcia_pat500_0771/VSD.Brain.XX.O.MR_T1c.40801/VSD.Brain.XX.O.MR_T1c.40801.mha\n",
      "Error. Likely, either downloading this file is impossible (e.g., there is no download link), or destination path does not exist.\n",
      "./brats_2015/23_logs/Testing/HGG_LGG/brats_tcia_pat500_0771/VSD.Brain.XX.O.MR_T1c.40801/License_CC_BY_NC_SA_3.0.txt\n",
      "Downloading License_CC_BY_NC_SA_3.0.txt to ./brats_2015/23_logs/Testing/HGG_LGG/brats_tcia_pat500_0771/VSD.Brain.XX.O.MR_T1c.40801/License_CC_BY_NC_SA_3.0.txt\n",
      "Error. Likely, either downloading this file is impossible (e.g., there is no download link), or destination path does not exist.\n",
      "Done!\n",
      "./brats_2015/23_logs/Testing/HGG_LGG/brats_tcia_pat500_0771/VSD.Brain.XX.O.MR_T2.40800\n",
      "Making ./brats_2015/23_logs/Testing/HGG_LGG/brats_tcia_pat500_0771/VSD.Brain.XX.O.MR_T2.40800\n",
      "./brats_2015/23_logs/Testing/HGG_LGG/brats_tcia_pat500_0771/VSD.Brain.XX.O.MR_T2.40800/VSD.Brain.XX.O.MR_T2.40800.mha\n",
      "Downloading VSD.Brain.XX.O.MR_T2.40800.mha to ./brats_2015/23_logs/Testing/HGG_LGG/brats_tcia_pat500_0771/VSD.Brain.XX.O.MR_T2.40800/VSD.Brain.XX.O.MR_T2.40800.mha\n",
      "Error. Likely, either downloading this file is impossible (e.g., there is no download link), or destination path does not exist.\n",
      "./brats_2015/23_logs/Testing/HGG_LGG/brats_tcia_pat500_0771/VSD.Brain.XX.O.MR_T2.40800/License_CC_BY_NC_SA_3.0.txt\n",
      "Downloading License_CC_BY_NC_SA_3.0.txt to ./brats_2015/23_logs/Testing/HGG_LGG/brats_tcia_pat500_0771/VSD.Brain.XX.O.MR_T2.40800/License_CC_BY_NC_SA_3.0.txt\n",
      "Error. Likely, either downloading this file is impossible (e.g., there is no download link), or destination path does not exist.\n",
      "Done!\n",
      "./brats_2015/23_logs/Testing/HGG_LGG/brats_tcia_pat500_0771/VSD.Brain.XX.O.MR_T1.40802\n",
      "Making ./brats_2015/23_logs/Testing/HGG_LGG/brats_tcia_pat500_0771/VSD.Brain.XX.O.MR_T1.40802\n",
      "./brats_2015/23_logs/Testing/HGG_LGG/brats_tcia_pat500_0771/VSD.Brain.XX.O.MR_T1.40802/VSD.Brain.XX.O.MR_T1.40802.mha\n",
      "Downloading VSD.Brain.XX.O.MR_T1.40802.mha to ./brats_2015/23_logs/Testing/HGG_LGG/brats_tcia_pat500_0771/VSD.Brain.XX.O.MR_T1.40802/VSD.Brain.XX.O.MR_T1.40802.mha\n",
      "Error. Likely, either downloading this file is impossible (e.g., there is no download link), or destination path does not exist.\n",
      "./brats_2015/23_logs/Testing/HGG_LGG/brats_tcia_pat500_0771/VSD.Brain.XX.O.MR_T1.40802/License_CC_BY_NC_SA_3.0.txt\n",
      "Downloading License_CC_BY_NC_SA_3.0.txt to ./brats_2015/23_logs/Testing/HGG_LGG/brats_tcia_pat500_0771/VSD.Brain.XX.O.MR_T1.40802/License_CC_BY_NC_SA_3.0.txt\n",
      "Error. Likely, either downloading this file is impossible (e.g., there is no download link), or destination path does not exist.\n",
      "Done!\n",
      "Done!\n",
      "./brats_2015/23_logs/Testing/HGG_LGG/brats_tcia_pat500_0647\n",
      "Making ./brats_2015/23_logs/Testing/HGG_LGG/brats_tcia_pat500_0647\n",
      "./brats_2015/23_logs/Testing/HGG_LGG/brats_tcia_pat500_0647/VSD.Brain.XX.O.MR_T1c.41165\n",
      "Making ./brats_2015/23_logs/Testing/HGG_LGG/brats_tcia_pat500_0647/VSD.Brain.XX.O.MR_T1c.41165\n",
      "./brats_2015/23_logs/Testing/HGG_LGG/brats_tcia_pat500_0647/VSD.Brain.XX.O.MR_T1c.41165/VSD.Brain.XX.O.MR_T1c.41165.mha\n",
      "Downloading VSD.Brain.XX.O.MR_T1c.41165.mha to ./brats_2015/23_logs/Testing/HGG_LGG/brats_tcia_pat500_0647/VSD.Brain.XX.O.MR_T1c.41165/VSD.Brain.XX.O.MR_T1c.41165.mha\n",
      "Error. Likely, either downloading this file is impossible (e.g., there is no download link), or destination path does not exist.\n",
      "./brats_2015/23_logs/Testing/HGG_LGG/brats_tcia_pat500_0647/VSD.Brain.XX.O.MR_T1c.41165/License_CC_BY_NC_SA_3.0.txt\n",
      "Downloading License_CC_BY_NC_SA_3.0.txt to ./brats_2015/23_logs/Testing/HGG_LGG/brats_tcia_pat500_0647/VSD.Brain.XX.O.MR_T1c.41165/License_CC_BY_NC_SA_3.0.txt\n",
      "Error. Likely, either downloading this file is impossible (e.g., there is no download link), or destination path does not exist.\n",
      "Done!\n",
      "./brats_2015/23_logs/Testing/HGG_LGG/brats_tcia_pat500_0647/VSD.Brain.XX.O.MR_T1.41166\n",
      "Making ./brats_2015/23_logs/Testing/HGG_LGG/brats_tcia_pat500_0647/VSD.Brain.XX.O.MR_T1.41166\n",
      "./brats_2015/23_logs/Testing/HGG_LGG/brats_tcia_pat500_0647/VSD.Brain.XX.O.MR_T1.41166/VSD.Brain.XX.O.MR_T1.41166.mha\n",
      "Downloading VSD.Brain.XX.O.MR_T1.41166.mha to ./brats_2015/23_logs/Testing/HGG_LGG/brats_tcia_pat500_0647/VSD.Brain.XX.O.MR_T1.41166/VSD.Brain.XX.O.MR_T1.41166.mha\n",
      "Error. Likely, either downloading this file is impossible (e.g., there is no download link), or destination path does not exist.\n",
      "./brats_2015/23_logs/Testing/HGG_LGG/brats_tcia_pat500_0647/VSD.Brain.XX.O.MR_T1.41166/License_CC_BY_NC_SA_3.0.txt\n",
      "Downloading License_CC_BY_NC_SA_3.0.txt to ./brats_2015/23_logs/Testing/HGG_LGG/brats_tcia_pat500_0647/VSD.Brain.XX.O.MR_T1.41166/License_CC_BY_NC_SA_3.0.txt\n",
      "Error. Likely, either downloading this file is impossible (e.g., there is no download link), or destination path does not exist.\n",
      "Done!\n",
      "./brats_2015/23_logs/Testing/HGG_LGG/brats_tcia_pat500_0647/VSD.Brain.XX.O.MR_T2.41164\n",
      "Making ./brats_2015/23_logs/Testing/HGG_LGG/brats_tcia_pat500_0647/VSD.Brain.XX.O.MR_T2.41164\n",
      "./brats_2015/23_logs/Testing/HGG_LGG/brats_tcia_pat500_0647/VSD.Brain.XX.O.MR_T2.41164/VSD.Brain.XX.O.MR_T2.41164.mha\n",
      "Downloading VSD.Brain.XX.O.MR_T2.41164.mha to ./brats_2015/23_logs/Testing/HGG_LGG/brats_tcia_pat500_0647/VSD.Brain.XX.O.MR_T2.41164/VSD.Brain.XX.O.MR_T2.41164.mha\n",
      "Error. Likely, either downloading this file is impossible (e.g., there is no download link), or destination path does not exist.\n",
      "./brats_2015/23_logs/Testing/HGG_LGG/brats_tcia_pat500_0647/VSD.Brain.XX.O.MR_T2.41164/License_CC_BY_NC_SA_3.0.txt\n",
      "Downloading License_CC_BY_NC_SA_3.0.txt to ./brats_2015/23_logs/Testing/HGG_LGG/brats_tcia_pat500_0647/VSD.Brain.XX.O.MR_T2.41164/License_CC_BY_NC_SA_3.0.txt\n",
      "Error. Likely, either downloading this file is impossible (e.g., there is no download link), or destination path does not exist.\n",
      "Done!\n",
      "./brats_2015/23_logs/Testing/HGG_LGG/brats_tcia_pat500_0647/VSD.Brain.XX.O.MR_Flair.41163\n",
      "Making ./brats_2015/23_logs/Testing/HGG_LGG/brats_tcia_pat500_0647/VSD.Brain.XX.O.MR_Flair.41163\n",
      "./brats_2015/23_logs/Testing/HGG_LGG/brats_tcia_pat500_0647/VSD.Brain.XX.O.MR_Flair.41163/VSD.Brain.XX.O.MR_Flair.41163.mha\n",
      "Downloading VSD.Brain.XX.O.MR_Flair.41163.mha to ./brats_2015/23_logs/Testing/HGG_LGG/brats_tcia_pat500_0647/VSD.Brain.XX.O.MR_Flair.41163/VSD.Brain.XX.O.MR_Flair.41163.mha\n",
      "Error. Likely, either downloading this file is impossible (e.g., there is no download link), or destination path does not exist.\n",
      "./brats_2015/23_logs/Testing/HGG_LGG/brats_tcia_pat500_0647/VSD.Brain.XX.O.MR_Flair.41163/License_CC_BY_NC_SA_3.0.txt\n",
      "Downloading License_CC_BY_NC_SA_3.0.txt to ./brats_2015/23_logs/Testing/HGG_LGG/brats_tcia_pat500_0647/VSD.Brain.XX.O.MR_Flair.41163/License_CC_BY_NC_SA_3.0.txt\n",
      "Error. Likely, either downloading this file is impossible (e.g., there is no download link), or destination path does not exist.\n",
      "Done!\n",
      "Done!\n",
      "./brats_2015/23_logs/Testing/HGG_LGG/brats_tcia_pat500_0716\n",
      "Making ./brats_2015/23_logs/Testing/HGG_LGG/brats_tcia_pat500_0716\n",
      "./brats_2015/23_logs/Testing/HGG_LGG/brats_tcia_pat500_0716/VSD.Brain.XX.O.MR_T2.41183\n",
      "Making ./brats_2015/23_logs/Testing/HGG_LGG/brats_tcia_pat500_0716/VSD.Brain.XX.O.MR_T2.41183\n",
      "./brats_2015/23_logs/Testing/HGG_LGG/brats_tcia_pat500_0716/VSD.Brain.XX.O.MR_T2.41183/VSD.Brain.XX.O.MR_T2.41183.mha\n",
      "Downloading VSD.Brain.XX.O.MR_T2.41183.mha to ./brats_2015/23_logs/Testing/HGG_LGG/brats_tcia_pat500_0716/VSD.Brain.XX.O.MR_T2.41183/VSD.Brain.XX.O.MR_T2.41183.mha\n",
      "Error. Likely, either downloading this file is impossible (e.g., there is no download link), or destination path does not exist.\n",
      "./brats_2015/23_logs/Testing/HGG_LGG/brats_tcia_pat500_0716/VSD.Brain.XX.O.MR_T2.41183/License_CC_BY_NC_SA_3.0.txt\n",
      "Downloading License_CC_BY_NC_SA_3.0.txt to ./brats_2015/23_logs/Testing/HGG_LGG/brats_tcia_pat500_0716/VSD.Brain.XX.O.MR_T2.41183/License_CC_BY_NC_SA_3.0.txt\n",
      "Error. Likely, either downloading this file is impossible (e.g., there is no download link), or destination path does not exist.\n",
      "Done!\n",
      "./brats_2015/23_logs/Testing/HGG_LGG/brats_tcia_pat500_0716/VSD.Brain.XX.O.MR_T1.41185\n",
      "Making ./brats_2015/23_logs/Testing/HGG_LGG/brats_tcia_pat500_0716/VSD.Brain.XX.O.MR_T1.41185\n",
      "./brats_2015/23_logs/Testing/HGG_LGG/brats_tcia_pat500_0716/VSD.Brain.XX.O.MR_T1.41185/VSD.Brain.XX.O.MR_T1.41185.mha\n",
      "Downloading VSD.Brain.XX.O.MR_T1.41185.mha to ./brats_2015/23_logs/Testing/HGG_LGG/brats_tcia_pat500_0716/VSD.Brain.XX.O.MR_T1.41185/VSD.Brain.XX.O.MR_T1.41185.mha\n",
      "Error. Likely, either downloading this file is impossible (e.g., there is no download link), or destination path does not exist.\n",
      "./brats_2015/23_logs/Testing/HGG_LGG/brats_tcia_pat500_0716/VSD.Brain.XX.O.MR_T1.41185/License_CC_BY_NC_SA_3.0.txt\n",
      "Downloading License_CC_BY_NC_SA_3.0.txt to ./brats_2015/23_logs/Testing/HGG_LGG/brats_tcia_pat500_0716/VSD.Brain.XX.O.MR_T1.41185/License_CC_BY_NC_SA_3.0.txt\n",
      "Error. Likely, either downloading this file is impossible (e.g., there is no download link), or destination path does not exist.\n",
      "Done!\n",
      "./brats_2015/23_logs/Testing/HGG_LGG/brats_tcia_pat500_0716/VSD.Brain.XX.O.MR_T1c.41184\n",
      "Making ./brats_2015/23_logs/Testing/HGG_LGG/brats_tcia_pat500_0716/VSD.Brain.XX.O.MR_T1c.41184\n",
      "./brats_2015/23_logs/Testing/HGG_LGG/brats_tcia_pat500_0716/VSD.Brain.XX.O.MR_T1c.41184/VSD.Brain.XX.O.MR_T1c.41184.mha\n",
      "Downloading VSD.Brain.XX.O.MR_T1c.41184.mha to ./brats_2015/23_logs/Testing/HGG_LGG/brats_tcia_pat500_0716/VSD.Brain.XX.O.MR_T1c.41184/VSD.Brain.XX.O.MR_T1c.41184.mha\n",
      "Error. Likely, either downloading this file is impossible (e.g., there is no download link), or destination path does not exist.\n",
      "./brats_2015/23_logs/Testing/HGG_LGG/brats_tcia_pat500_0716/VSD.Brain.XX.O.MR_T1c.41184/License_CC_BY_NC_SA_3.0.txt\n",
      "Downloading License_CC_BY_NC_SA_3.0.txt to ./brats_2015/23_logs/Testing/HGG_LGG/brats_tcia_pat500_0716/VSD.Brain.XX.O.MR_T1c.41184/License_CC_BY_NC_SA_3.0.txt\n",
      "Error. Likely, either downloading this file is impossible (e.g., there is no download link), or destination path does not exist.\n",
      "Done!\n",
      "./brats_2015/23_logs/Testing/HGG_LGG/brats_tcia_pat500_0716/VSD.Brain.XX.O.MR_Flair.41182\n",
      "Making ./brats_2015/23_logs/Testing/HGG_LGG/brats_tcia_pat500_0716/VSD.Brain.XX.O.MR_Flair.41182\n",
      "./brats_2015/23_logs/Testing/HGG_LGG/brats_tcia_pat500_0716/VSD.Brain.XX.O.MR_Flair.41182/VSD.Brain.XX.O.MR_Flair.41182.mha\n",
      "Downloading VSD.Brain.XX.O.MR_Flair.41182.mha to ./brats_2015/23_logs/Testing/HGG_LGG/brats_tcia_pat500_0716/VSD.Brain.XX.O.MR_Flair.41182/VSD.Brain.XX.O.MR_Flair.41182.mha\n",
      "Error. Likely, either downloading this file is impossible (e.g., there is no download link), or destination path does not exist.\n",
      "./brats_2015/23_logs/Testing/HGG_LGG/brats_tcia_pat500_0716/VSD.Brain.XX.O.MR_Flair.41182/License_CC_BY_NC_SA_3.0.txt\n",
      "Downloading License_CC_BY_NC_SA_3.0.txt to ./brats_2015/23_logs/Testing/HGG_LGG/brats_tcia_pat500_0716/VSD.Brain.XX.O.MR_Flair.41182/License_CC_BY_NC_SA_3.0.txt\n",
      "Error. Likely, either downloading this file is impossible (e.g., there is no download link), or destination path does not exist.\n",
      "Done!\n",
      "Done!\n",
      "./brats_2015/23_logs/Testing/HGG_LGG/brats_tcia_pat500_0552\n",
      "Making ./brats_2015/23_logs/Testing/HGG_LGG/brats_tcia_pat500_0552\n",
      "./brats_2015/23_logs/Testing/HGG_LGG/brats_tcia_pat500_0552/VSD.Brain.XX.O.MR_T1c.41208\n",
      "Making ./brats_2015/23_logs/Testing/HGG_LGG/brats_tcia_pat500_0552/VSD.Brain.XX.O.MR_T1c.41208\n",
      "./brats_2015/23_logs/Testing/HGG_LGG/brats_tcia_pat500_0552/VSD.Brain.XX.O.MR_T1c.41208/VSD.Brain.XX.O.MR_T1c.41208.mha\n",
      "Downloading VSD.Brain.XX.O.MR_T1c.41208.mha to ./brats_2015/23_logs/Testing/HGG_LGG/brats_tcia_pat500_0552/VSD.Brain.XX.O.MR_T1c.41208/VSD.Brain.XX.O.MR_T1c.41208.mha\n",
      "Error. Likely, either downloading this file is impossible (e.g., there is no download link), or destination path does not exist.\n",
      "./brats_2015/23_logs/Testing/HGG_LGG/brats_tcia_pat500_0552/VSD.Brain.XX.O.MR_T1c.41208/License_CC_BY_NC_SA_3.0.txt\n",
      "Downloading License_CC_BY_NC_SA_3.0.txt to ./brats_2015/23_logs/Testing/HGG_LGG/brats_tcia_pat500_0552/VSD.Brain.XX.O.MR_T1c.41208/License_CC_BY_NC_SA_3.0.txt\n",
      "Error. Likely, either downloading this file is impossible (e.g., there is no download link), or destination path does not exist.\n",
      "Done!\n",
      "./brats_2015/23_logs/Testing/HGG_LGG/brats_tcia_pat500_0552/VSD.Brain.XX.O.MR_T1.41209\n",
      "Making ./brats_2015/23_logs/Testing/HGG_LGG/brats_tcia_pat500_0552/VSD.Brain.XX.O.MR_T1.41209\n",
      "./brats_2015/23_logs/Testing/HGG_LGG/brats_tcia_pat500_0552/VSD.Brain.XX.O.MR_T1.41209/VSD.Brain.XX.O.MR_T1.41209.mha\n",
      "Downloading VSD.Brain.XX.O.MR_T1.41209.mha to ./brats_2015/23_logs/Testing/HGG_LGG/brats_tcia_pat500_0552/VSD.Brain.XX.O.MR_T1.41209/VSD.Brain.XX.O.MR_T1.41209.mha\n",
      "Error. Likely, either downloading this file is impossible (e.g., there is no download link), or destination path does not exist.\n",
      "./brats_2015/23_logs/Testing/HGG_LGG/brats_tcia_pat500_0552/VSD.Brain.XX.O.MR_T1.41209/License_CC_BY_NC_SA_3.0.txt\n",
      "Downloading License_CC_BY_NC_SA_3.0.txt to ./brats_2015/23_logs/Testing/HGG_LGG/brats_tcia_pat500_0552/VSD.Brain.XX.O.MR_T1.41209/License_CC_BY_NC_SA_3.0.txt\n",
      "Error. Likely, either downloading this file is impossible (e.g., there is no download link), or destination path does not exist.\n",
      "Done!\n",
      "./brats_2015/23_logs/Testing/HGG_LGG/brats_tcia_pat500_0552/VSD.Brain.XX.O.MR_Flair.41206\n",
      "Making ./brats_2015/23_logs/Testing/HGG_LGG/brats_tcia_pat500_0552/VSD.Brain.XX.O.MR_Flair.41206\n",
      "./brats_2015/23_logs/Testing/HGG_LGG/brats_tcia_pat500_0552/VSD.Brain.XX.O.MR_Flair.41206/VSD.Brain.XX.O.MR_Flair.41206.mha\n",
      "Downloading VSD.Brain.XX.O.MR_Flair.41206.mha to ./brats_2015/23_logs/Testing/HGG_LGG/brats_tcia_pat500_0552/VSD.Brain.XX.O.MR_Flair.41206/VSD.Brain.XX.O.MR_Flair.41206.mha\n",
      "Error. Likely, either downloading this file is impossible (e.g., there is no download link), or destination path does not exist.\n",
      "./brats_2015/23_logs/Testing/HGG_LGG/brats_tcia_pat500_0552/VSD.Brain.XX.O.MR_Flair.41206/License_CC_BY_NC_SA_3.0.txt\n",
      "Downloading License_CC_BY_NC_SA_3.0.txt to ./brats_2015/23_logs/Testing/HGG_LGG/brats_tcia_pat500_0552/VSD.Brain.XX.O.MR_Flair.41206/License_CC_BY_NC_SA_3.0.txt\n",
      "Error. Likely, either downloading this file is impossible (e.g., there is no download link), or destination path does not exist.\n",
      "Done!\n",
      "./brats_2015/23_logs/Testing/HGG_LGG/brats_tcia_pat500_0552/VSD.Brain.XX.O.MR_T2.41207\n",
      "Making ./brats_2015/23_logs/Testing/HGG_LGG/brats_tcia_pat500_0552/VSD.Brain.XX.O.MR_T2.41207\n",
      "./brats_2015/23_logs/Testing/HGG_LGG/brats_tcia_pat500_0552/VSD.Brain.XX.O.MR_T2.41207/VSD.Brain.XX.O.MR_T2.41207.mha\n",
      "Downloading VSD.Brain.XX.O.MR_T2.41207.mha to ./brats_2015/23_logs/Testing/HGG_LGG/brats_tcia_pat500_0552/VSD.Brain.XX.O.MR_T2.41207/VSD.Brain.XX.O.MR_T2.41207.mha\n",
      "Error. Likely, either downloading this file is impossible (e.g., there is no download link), or destination path does not exist.\n",
      "./brats_2015/23_logs/Testing/HGG_LGG/brats_tcia_pat500_0552/VSD.Brain.XX.O.MR_T2.41207/License_CC_BY_NC_SA_3.0.txt\n",
      "Downloading License_CC_BY_NC_SA_3.0.txt to ./brats_2015/23_logs/Testing/HGG_LGG/brats_tcia_pat500_0552/VSD.Brain.XX.O.MR_T2.41207/License_CC_BY_NC_SA_3.0.txt\n",
      "Error. Likely, either downloading this file is impossible (e.g., there is no download link), or destination path does not exist.\n",
      "Done!\n",
      "Done!\n",
      "./brats_2015/23_logs/Testing/HGG_LGG/brats_tcia_pat500_0465\n",
      "Making ./brats_2015/23_logs/Testing/HGG_LGG/brats_tcia_pat500_0465\n",
      "./brats_2015/23_logs/Testing/HGG_LGG/brats_tcia_pat500_0465/VSD.Brain.XX.O.MR_Flair.41214\n",
      "Making ./brats_2015/23_logs/Testing/HGG_LGG/brats_tcia_pat500_0465/VSD.Brain.XX.O.MR_Flair.41214\n",
      "./brats_2015/23_logs/Testing/HGG_LGG/brats_tcia_pat500_0465/VSD.Brain.XX.O.MR_Flair.41214/VSD.Brain.XX.O.MR_Flair.41214.mha\n",
      "Downloading VSD.Brain.XX.O.MR_Flair.41214.mha to ./brats_2015/23_logs/Testing/HGG_LGG/brats_tcia_pat500_0465/VSD.Brain.XX.O.MR_Flair.41214/VSD.Brain.XX.O.MR_Flair.41214.mha\n",
      "Error. Likely, either downloading this file is impossible (e.g., there is no download link), or destination path does not exist.\n",
      "./brats_2015/23_logs/Testing/HGG_LGG/brats_tcia_pat500_0465/VSD.Brain.XX.O.MR_Flair.41214/License_CC_BY_NC_SA_3.0.txt\n",
      "Downloading License_CC_BY_NC_SA_3.0.txt to ./brats_2015/23_logs/Testing/HGG_LGG/brats_tcia_pat500_0465/VSD.Brain.XX.O.MR_Flair.41214/License_CC_BY_NC_SA_3.0.txt\n",
      "Error. Likely, either downloading this file is impossible (e.g., there is no download link), or destination path does not exist.\n",
      "Done!\n",
      "./brats_2015/23_logs/Testing/HGG_LGG/brats_tcia_pat500_0465/VSD.Brain.XX.O.MR_T1.41217\n",
      "Making ./brats_2015/23_logs/Testing/HGG_LGG/brats_tcia_pat500_0465/VSD.Brain.XX.O.MR_T1.41217\n",
      "./brats_2015/23_logs/Testing/HGG_LGG/brats_tcia_pat500_0465/VSD.Brain.XX.O.MR_T1.41217/VSD.Brain.XX.O.MR_T1.41217.mha\n",
      "Downloading VSD.Brain.XX.O.MR_T1.41217.mha to ./brats_2015/23_logs/Testing/HGG_LGG/brats_tcia_pat500_0465/VSD.Brain.XX.O.MR_T1.41217/VSD.Brain.XX.O.MR_T1.41217.mha\n",
      "Error. Likely, either downloading this file is impossible (e.g., there is no download link), or destination path does not exist.\n",
      "./brats_2015/23_logs/Testing/HGG_LGG/brats_tcia_pat500_0465/VSD.Brain.XX.O.MR_T1.41217/License_CC_BY_NC_SA_3.0.txt\n",
      "Downloading License_CC_BY_NC_SA_3.0.txt to ./brats_2015/23_logs/Testing/HGG_LGG/brats_tcia_pat500_0465/VSD.Brain.XX.O.MR_T1.41217/License_CC_BY_NC_SA_3.0.txt\n",
      "Error. Likely, either downloading this file is impossible (e.g., there is no download link), or destination path does not exist.\n",
      "Done!\n",
      "./brats_2015/23_logs/Testing/HGG_LGG/brats_tcia_pat500_0465/VSD.Brain.XX.O.MR_T2.41215\n",
      "Making ./brats_2015/23_logs/Testing/HGG_LGG/brats_tcia_pat500_0465/VSD.Brain.XX.O.MR_T2.41215\n",
      "./brats_2015/23_logs/Testing/HGG_LGG/brats_tcia_pat500_0465/VSD.Brain.XX.O.MR_T2.41215/VSD.Brain.XX.O.MR_T2.41215.mha\n",
      "Downloading VSD.Brain.XX.O.MR_T2.41215.mha to ./brats_2015/23_logs/Testing/HGG_LGG/brats_tcia_pat500_0465/VSD.Brain.XX.O.MR_T2.41215/VSD.Brain.XX.O.MR_T2.41215.mha\n",
      "Error. Likely, either downloading this file is impossible (e.g., there is no download link), or destination path does not exist.\n",
      "./brats_2015/23_logs/Testing/HGG_LGG/brats_tcia_pat500_0465/VSD.Brain.XX.O.MR_T2.41215/License_CC_BY_NC_SA_3.0.txt\n",
      "Downloading License_CC_BY_NC_SA_3.0.txt to ./brats_2015/23_logs/Testing/HGG_LGG/brats_tcia_pat500_0465/VSD.Brain.XX.O.MR_T2.41215/License_CC_BY_NC_SA_3.0.txt\n",
      "Error. Likely, either downloading this file is impossible (e.g., there is no download link), or destination path does not exist.\n",
      "Done!\n",
      "./brats_2015/23_logs/Testing/HGG_LGG/brats_tcia_pat500_0465/VSD.Brain.XX.O.MR_T1c.41216\n",
      "Making ./brats_2015/23_logs/Testing/HGG_LGG/brats_tcia_pat500_0465/VSD.Brain.XX.O.MR_T1c.41216\n",
      "./brats_2015/23_logs/Testing/HGG_LGG/brats_tcia_pat500_0465/VSD.Brain.XX.O.MR_T1c.41216/VSD.Brain.XX.O.MR_T1c.41216.mha\n",
      "Downloading VSD.Brain.XX.O.MR_T1c.41216.mha to ./brats_2015/23_logs/Testing/HGG_LGG/brats_tcia_pat500_0465/VSD.Brain.XX.O.MR_T1c.41216/VSD.Brain.XX.O.MR_T1c.41216.mha\n",
      "Error. Likely, either downloading this file is impossible (e.g., there is no download link), or destination path does not exist.\n",
      "./brats_2015/23_logs/Testing/HGG_LGG/brats_tcia_pat500_0465/VSD.Brain.XX.O.MR_T1c.41216/License_CC_BY_NC_SA_3.0.txt\n",
      "Downloading License_CC_BY_NC_SA_3.0.txt to ./brats_2015/23_logs/Testing/HGG_LGG/brats_tcia_pat500_0465/VSD.Brain.XX.O.MR_T1c.41216/License_CC_BY_NC_SA_3.0.txt\n",
      "Error. Likely, either downloading this file is impossible (e.g., there is no download link), or destination path does not exist.\n",
      "Done!\n",
      "Done!\n",
      "./brats_2015/23_logs/Testing/HGG_LGG/brats_tcia_pat500_0613\n",
      "Making ./brats_2015/23_logs/Testing/HGG_LGG/brats_tcia_pat500_0613\n",
      "./brats_2015/23_logs/Testing/HGG_LGG/brats_tcia_pat500_0613/VSD.Brain.XX.O.MR_T2.41172\n",
      "Making ./brats_2015/23_logs/Testing/HGG_LGG/brats_tcia_pat500_0613/VSD.Brain.XX.O.MR_T2.41172\n",
      "./brats_2015/23_logs/Testing/HGG_LGG/brats_tcia_pat500_0613/VSD.Brain.XX.O.MR_T2.41172/VSD.Brain.XX.O.MR_T2.41172.mha\n",
      "Downloading VSD.Brain.XX.O.MR_T2.41172.mha to ./brats_2015/23_logs/Testing/HGG_LGG/brats_tcia_pat500_0613/VSD.Brain.XX.O.MR_T2.41172/VSD.Brain.XX.O.MR_T2.41172.mha\n",
      "Error. Likely, either downloading this file is impossible (e.g., there is no download link), or destination path does not exist.\n",
      "./brats_2015/23_logs/Testing/HGG_LGG/brats_tcia_pat500_0613/VSD.Brain.XX.O.MR_T2.41172/License_CC_BY_NC_SA_3.0.txt\n",
      "Downloading License_CC_BY_NC_SA_3.0.txt to ./brats_2015/23_logs/Testing/HGG_LGG/brats_tcia_pat500_0613/VSD.Brain.XX.O.MR_T2.41172/License_CC_BY_NC_SA_3.0.txt\n",
      "Error. Likely, either downloading this file is impossible (e.g., there is no download link), or destination path does not exist.\n",
      "Done!\n",
      "./brats_2015/23_logs/Testing/HGG_LGG/brats_tcia_pat500_0613/VSD.Brain.XX.O.MR_T1c.41173\n",
      "Making ./brats_2015/23_logs/Testing/HGG_LGG/brats_tcia_pat500_0613/VSD.Brain.XX.O.MR_T1c.41173\n",
      "./brats_2015/23_logs/Testing/HGG_LGG/brats_tcia_pat500_0613/VSD.Brain.XX.O.MR_T1c.41173/VSD.Brain.XX.O.MR_T1c.41173.mha\n",
      "Downloading VSD.Brain.XX.O.MR_T1c.41173.mha to ./brats_2015/23_logs/Testing/HGG_LGG/brats_tcia_pat500_0613/VSD.Brain.XX.O.MR_T1c.41173/VSD.Brain.XX.O.MR_T1c.41173.mha\n",
      "Error. Likely, either downloading this file is impossible (e.g., there is no download link), or destination path does not exist.\n",
      "./brats_2015/23_logs/Testing/HGG_LGG/brats_tcia_pat500_0613/VSD.Brain.XX.O.MR_T1c.41173/License_CC_BY_NC_SA_3.0.txt\n",
      "Downloading License_CC_BY_NC_SA_3.0.txt to ./brats_2015/23_logs/Testing/HGG_LGG/brats_tcia_pat500_0613/VSD.Brain.XX.O.MR_T1c.41173/License_CC_BY_NC_SA_3.0.txt\n",
      "Error. Likely, either downloading this file is impossible (e.g., there is no download link), or destination path does not exist.\n",
      "Done!\n",
      "./brats_2015/23_logs/Testing/HGG_LGG/brats_tcia_pat500_0613/VSD.Brain.XX.O.MR_T1.41174\n",
      "Making ./brats_2015/23_logs/Testing/HGG_LGG/brats_tcia_pat500_0613/VSD.Brain.XX.O.MR_T1.41174\n",
      "./brats_2015/23_logs/Testing/HGG_LGG/brats_tcia_pat500_0613/VSD.Brain.XX.O.MR_T1.41174/VSD.Brain.XX.O.MR_T1.41174.mha\n",
      "Downloading VSD.Brain.XX.O.MR_T1.41174.mha to ./brats_2015/23_logs/Testing/HGG_LGG/brats_tcia_pat500_0613/VSD.Brain.XX.O.MR_T1.41174/VSD.Brain.XX.O.MR_T1.41174.mha\n",
      "Error. Likely, either downloading this file is impossible (e.g., there is no download link), or destination path does not exist.\n",
      "./brats_2015/23_logs/Testing/HGG_LGG/brats_tcia_pat500_0613/VSD.Brain.XX.O.MR_T1.41174/License_CC_BY_NC_SA_3.0.txt\n",
      "Downloading License_CC_BY_NC_SA_3.0.txt to ./brats_2015/23_logs/Testing/HGG_LGG/brats_tcia_pat500_0613/VSD.Brain.XX.O.MR_T1.41174/License_CC_BY_NC_SA_3.0.txt\n",
      "Error. Likely, either downloading this file is impossible (e.g., there is no download link), or destination path does not exist.\n",
      "Done!\n",
      "./brats_2015/23_logs/Testing/HGG_LGG/brats_tcia_pat500_0613/VSD.Brain.XX.O.MR_Flair.41171\n",
      "Making ./brats_2015/23_logs/Testing/HGG_LGG/brats_tcia_pat500_0613/VSD.Brain.XX.O.MR_Flair.41171\n",
      "./brats_2015/23_logs/Testing/HGG_LGG/brats_tcia_pat500_0613/VSD.Brain.XX.O.MR_Flair.41171/VSD.Brain.XX.O.MR_Flair.41171.mha\n",
      "Downloading VSD.Brain.XX.O.MR_Flair.41171.mha to ./brats_2015/23_logs/Testing/HGG_LGG/brats_tcia_pat500_0613/VSD.Brain.XX.O.MR_Flair.41171/VSD.Brain.XX.O.MR_Flair.41171.mha\n",
      "Error. Likely, either downloading this file is impossible (e.g., there is no download link), or destination path does not exist.\n",
      "./brats_2015/23_logs/Testing/HGG_LGG/brats_tcia_pat500_0613/VSD.Brain.XX.O.MR_Flair.41171/License_CC_BY_NC_SA_3.0.txt\n",
      "Downloading License_CC_BY_NC_SA_3.0.txt to ./brats_2015/23_logs/Testing/HGG_LGG/brats_tcia_pat500_0613/VSD.Brain.XX.O.MR_Flair.41171/License_CC_BY_NC_SA_3.0.txt\n",
      "Error. Likely, either downloading this file is impossible (e.g., there is no download link), or destination path does not exist.\n",
      "Done!\n",
      "Done!\n",
      "./brats_2015/23_logs/Testing/HGG_LGG/brats_tcia_pat500_0525\n",
      "Making ./brats_2015/23_logs/Testing/HGG_LGG/brats_tcia_pat500_0525\n",
      "./brats_2015/23_logs/Testing/HGG_LGG/brats_tcia_pat500_0525/VSD.Brain.XX.O.MR_T2.41160\n",
      "Making ./brats_2015/23_logs/Testing/HGG_LGG/brats_tcia_pat500_0525/VSD.Brain.XX.O.MR_T2.41160\n",
      "./brats_2015/23_logs/Testing/HGG_LGG/brats_tcia_pat500_0525/VSD.Brain.XX.O.MR_T2.41160/VSD.Brain.XX.O.MR_T2.41160.mha\n",
      "Downloading VSD.Brain.XX.O.MR_T2.41160.mha to ./brats_2015/23_logs/Testing/HGG_LGG/brats_tcia_pat500_0525/VSD.Brain.XX.O.MR_T2.41160/VSD.Brain.XX.O.MR_T2.41160.mha\n",
      "Error. Likely, either downloading this file is impossible (e.g., there is no download link), or destination path does not exist.\n",
      "./brats_2015/23_logs/Testing/HGG_LGG/brats_tcia_pat500_0525/VSD.Brain.XX.O.MR_T2.41160/License_CC_BY_NC_SA_3.0.txt\n",
      "Downloading License_CC_BY_NC_SA_3.0.txt to ./brats_2015/23_logs/Testing/HGG_LGG/brats_tcia_pat500_0525/VSD.Brain.XX.O.MR_T2.41160/License_CC_BY_NC_SA_3.0.txt\n",
      "Error. Likely, either downloading this file is impossible (e.g., there is no download link), or destination path does not exist.\n",
      "Done!\n",
      "./brats_2015/23_logs/Testing/HGG_LGG/brats_tcia_pat500_0525/VSD.Brain.XX.O.MR_Flair.41159\n",
      "Making ./brats_2015/23_logs/Testing/HGG_LGG/brats_tcia_pat500_0525/VSD.Brain.XX.O.MR_Flair.41159\n",
      "./brats_2015/23_logs/Testing/HGG_LGG/brats_tcia_pat500_0525/VSD.Brain.XX.O.MR_Flair.41159/VSD.Brain.XX.O.MR_Flair.41159.mha\n",
      "Downloading VSD.Brain.XX.O.MR_Flair.41159.mha to ./brats_2015/23_logs/Testing/HGG_LGG/brats_tcia_pat500_0525/VSD.Brain.XX.O.MR_Flair.41159/VSD.Brain.XX.O.MR_Flair.41159.mha\n",
      "Error. Likely, either downloading this file is impossible (e.g., there is no download link), or destination path does not exist.\n",
      "./brats_2015/23_logs/Testing/HGG_LGG/brats_tcia_pat500_0525/VSD.Brain.XX.O.MR_Flair.41159/License_CC_BY_NC_SA_3.0.txt\n",
      "Downloading License_CC_BY_NC_SA_3.0.txt to ./brats_2015/23_logs/Testing/HGG_LGG/brats_tcia_pat500_0525/VSD.Brain.XX.O.MR_Flair.41159/License_CC_BY_NC_SA_3.0.txt\n",
      "Error. Likely, either downloading this file is impossible (e.g., there is no download link), or destination path does not exist.\n",
      "Done!\n",
      "./brats_2015/23_logs/Testing/HGG_LGG/brats_tcia_pat500_0525/VSD.Brain.XX.O.MR_T1.41162\n",
      "Making ./brats_2015/23_logs/Testing/HGG_LGG/brats_tcia_pat500_0525/VSD.Brain.XX.O.MR_T1.41162\n",
      "./brats_2015/23_logs/Testing/HGG_LGG/brats_tcia_pat500_0525/VSD.Brain.XX.O.MR_T1.41162/VSD.Brain.XX.O.MR_T1.41162.mha\n",
      "Downloading VSD.Brain.XX.O.MR_T1.41162.mha to ./brats_2015/23_logs/Testing/HGG_LGG/brats_tcia_pat500_0525/VSD.Brain.XX.O.MR_T1.41162/VSD.Brain.XX.O.MR_T1.41162.mha\n",
      "Error. Likely, either downloading this file is impossible (e.g., there is no download link), or destination path does not exist.\n",
      "./brats_2015/23_logs/Testing/HGG_LGG/brats_tcia_pat500_0525/VSD.Brain.XX.O.MR_T1.41162/License_CC_BY_NC_SA_3.0.txt\n",
      "Downloading License_CC_BY_NC_SA_3.0.txt to ./brats_2015/23_logs/Testing/HGG_LGG/brats_tcia_pat500_0525/VSD.Brain.XX.O.MR_T1.41162/License_CC_BY_NC_SA_3.0.txt\n",
      "Error. Likely, either downloading this file is impossible (e.g., there is no download link), or destination path does not exist.\n",
      "Done!\n",
      "./brats_2015/23_logs/Testing/HGG_LGG/brats_tcia_pat500_0525/VSD.Brain.XX.O.MR_T1c.41161\n",
      "Making ./brats_2015/23_logs/Testing/HGG_LGG/brats_tcia_pat500_0525/VSD.Brain.XX.O.MR_T1c.41161\n",
      "./brats_2015/23_logs/Testing/HGG_LGG/brats_tcia_pat500_0525/VSD.Brain.XX.O.MR_T1c.41161/VSD.Brain.XX.O.MR_T1c.41161.mha\n",
      "Downloading VSD.Brain.XX.O.MR_T1c.41161.mha to ./brats_2015/23_logs/Testing/HGG_LGG/brats_tcia_pat500_0525/VSD.Brain.XX.O.MR_T1c.41161/VSD.Brain.XX.O.MR_T1c.41161.mha\n",
      "Error. Likely, either downloading this file is impossible (e.g., there is no download link), or destination path does not exist.\n",
      "./brats_2015/23_logs/Testing/HGG_LGG/brats_tcia_pat500_0525/VSD.Brain.XX.O.MR_T1c.41161/License_CC_BY_NC_SA_3.0.txt\n",
      "Downloading License_CC_BY_NC_SA_3.0.txt to ./brats_2015/23_logs/Testing/HGG_LGG/brats_tcia_pat500_0525/VSD.Brain.XX.O.MR_T1c.41161/License_CC_BY_NC_SA_3.0.txt\n",
      "Error. Likely, either downloading this file is impossible (e.g., there is no download link), or destination path does not exist.\n",
      "Done!\n",
      "Done!\n",
      "./brats_2015/23_logs/Testing/HGG_LGG/brats_tcia_pat500_0334\n",
      "Making ./brats_2015/23_logs/Testing/HGG_LGG/brats_tcia_pat500_0334\n",
      "./brats_2015/23_logs/Testing/HGG_LGG/brats_tcia_pat500_0334/VSD.Brain.XX.O.MR_T2.41219\n",
      "Making ./brats_2015/23_logs/Testing/HGG_LGG/brats_tcia_pat500_0334/VSD.Brain.XX.O.MR_T2.41219\n",
      "./brats_2015/23_logs/Testing/HGG_LGG/brats_tcia_pat500_0334/VSD.Brain.XX.O.MR_T2.41219/VSD.Brain.XX.O.MR_T2.41219.mha\n",
      "Downloading VSD.Brain.XX.O.MR_T2.41219.mha to ./brats_2015/23_logs/Testing/HGG_LGG/brats_tcia_pat500_0334/VSD.Brain.XX.O.MR_T2.41219/VSD.Brain.XX.O.MR_T2.41219.mha\n",
      "Error. Likely, either downloading this file is impossible (e.g., there is no download link), or destination path does not exist.\n",
      "./brats_2015/23_logs/Testing/HGG_LGG/brats_tcia_pat500_0334/VSD.Brain.XX.O.MR_T2.41219/License_CC_BY_NC_SA_3.0.txt\n",
      "Downloading License_CC_BY_NC_SA_3.0.txt to ./brats_2015/23_logs/Testing/HGG_LGG/brats_tcia_pat500_0334/VSD.Brain.XX.O.MR_T2.41219/License_CC_BY_NC_SA_3.0.txt\n",
      "Error. Likely, either downloading this file is impossible (e.g., there is no download link), or destination path does not exist.\n",
      "Done!\n",
      "./brats_2015/23_logs/Testing/HGG_LGG/brats_tcia_pat500_0334/VSD.Brain.XX.O.MR_T1.41221\n",
      "Making ./brats_2015/23_logs/Testing/HGG_LGG/brats_tcia_pat500_0334/VSD.Brain.XX.O.MR_T1.41221\n",
      "./brats_2015/23_logs/Testing/HGG_LGG/brats_tcia_pat500_0334/VSD.Brain.XX.O.MR_T1.41221/VSD.Brain.XX.O.MR_T1.41221.mha\n",
      "Downloading VSD.Brain.XX.O.MR_T1.41221.mha to ./brats_2015/23_logs/Testing/HGG_LGG/brats_tcia_pat500_0334/VSD.Brain.XX.O.MR_T1.41221/VSD.Brain.XX.O.MR_T1.41221.mha\n",
      "Error. Likely, either downloading this file is impossible (e.g., there is no download link), or destination path does not exist.\n",
      "./brats_2015/23_logs/Testing/HGG_LGG/brats_tcia_pat500_0334/VSD.Brain.XX.O.MR_T1.41221/License_CC_BY_NC_SA_3.0.txt\n",
      "Downloading License_CC_BY_NC_SA_3.0.txt to ./brats_2015/23_logs/Testing/HGG_LGG/brats_tcia_pat500_0334/VSD.Brain.XX.O.MR_T1.41221/License_CC_BY_NC_SA_3.0.txt\n",
      "Error. Likely, either downloading this file is impossible (e.g., there is no download link), or destination path does not exist.\n",
      "Done!\n",
      "./brats_2015/23_logs/Testing/HGG_LGG/brats_tcia_pat500_0334/VSD.Brain.XX.O.MR_Flair.41218\n",
      "Making ./brats_2015/23_logs/Testing/HGG_LGG/brats_tcia_pat500_0334/VSD.Brain.XX.O.MR_Flair.41218\n",
      "./brats_2015/23_logs/Testing/HGG_LGG/brats_tcia_pat500_0334/VSD.Brain.XX.O.MR_Flair.41218/VSD.Brain.XX.O.MR_Flair.41218.mha\n",
      "Downloading VSD.Brain.XX.O.MR_Flair.41218.mha to ./brats_2015/23_logs/Testing/HGG_LGG/brats_tcia_pat500_0334/VSD.Brain.XX.O.MR_Flair.41218/VSD.Brain.XX.O.MR_Flair.41218.mha\n",
      "Error. Likely, either downloading this file is impossible (e.g., there is no download link), or destination path does not exist.\n",
      "./brats_2015/23_logs/Testing/HGG_LGG/brats_tcia_pat500_0334/VSD.Brain.XX.O.MR_Flair.41218/License_CC_BY_NC_SA_3.0.txt\n",
      "Downloading License_CC_BY_NC_SA_3.0.txt to ./brats_2015/23_logs/Testing/HGG_LGG/brats_tcia_pat500_0334/VSD.Brain.XX.O.MR_Flair.41218/License_CC_BY_NC_SA_3.0.txt\n",
      "Error. Likely, either downloading this file is impossible (e.g., there is no download link), or destination path does not exist.\n",
      "Done!\n",
      "./brats_2015/23_logs/Testing/HGG_LGG/brats_tcia_pat500_0334/VSD.Brain.XX.O.MR_T1c.41220\n",
      "Making ./brats_2015/23_logs/Testing/HGG_LGG/brats_tcia_pat500_0334/VSD.Brain.XX.O.MR_T1c.41220\n",
      "./brats_2015/23_logs/Testing/HGG_LGG/brats_tcia_pat500_0334/VSD.Brain.XX.O.MR_T1c.41220/VSD.Brain.XX.O.MR_T1c.41220.mha\n",
      "Downloading VSD.Brain.XX.O.MR_T1c.41220.mha to ./brats_2015/23_logs/Testing/HGG_LGG/brats_tcia_pat500_0334/VSD.Brain.XX.O.MR_T1c.41220/VSD.Brain.XX.O.MR_T1c.41220.mha\n",
      "Error. Likely, either downloading this file is impossible (e.g., there is no download link), or destination path does not exist.\n",
      "./brats_2015/23_logs/Testing/HGG_LGG/brats_tcia_pat500_0334/VSD.Brain.XX.O.MR_T1c.41220/License_CC_BY_NC_SA_3.0.txt\n",
      "Downloading License_CC_BY_NC_SA_3.0.txt to ./brats_2015/23_logs/Testing/HGG_LGG/brats_tcia_pat500_0334/VSD.Brain.XX.O.MR_T1c.41220/License_CC_BY_NC_SA_3.0.txt\n",
      "Error. Likely, either downloading this file is impossible (e.g., there is no download link), or destination path does not exist.\n",
      "Done!\n",
      "Done!\n",
      "./brats_2015/23_logs/Testing/HGG_LGG/brats_tcia_pat500_0403\n",
      "Making ./brats_2015/23_logs/Testing/HGG_LGG/brats_tcia_pat500_0403\n",
      "./brats_2015/23_logs/Testing/HGG_LGG/brats_tcia_pat500_0403/VSD.Brain.XX.O.MR_T2.41227\n",
      "Making ./brats_2015/23_logs/Testing/HGG_LGG/brats_tcia_pat500_0403/VSD.Brain.XX.O.MR_T2.41227\n",
      "./brats_2015/23_logs/Testing/HGG_LGG/brats_tcia_pat500_0403/VSD.Brain.XX.O.MR_T2.41227/VSD.Brain.XX.O.MR_T2.41227.mha\n",
      "Downloading VSD.Brain.XX.O.MR_T2.41227.mha to ./brats_2015/23_logs/Testing/HGG_LGG/brats_tcia_pat500_0403/VSD.Brain.XX.O.MR_T2.41227/VSD.Brain.XX.O.MR_T2.41227.mha\n",
      "Error. Likely, either downloading this file is impossible (e.g., there is no download link), or destination path does not exist.\n",
      "./brats_2015/23_logs/Testing/HGG_LGG/brats_tcia_pat500_0403/VSD.Brain.XX.O.MR_T2.41227/License_CC_BY_NC_SA_3.0.txt\n",
      "Downloading License_CC_BY_NC_SA_3.0.txt to ./brats_2015/23_logs/Testing/HGG_LGG/brats_tcia_pat500_0403/VSD.Brain.XX.O.MR_T2.41227/License_CC_BY_NC_SA_3.0.txt\n",
      "Error. Likely, either downloading this file is impossible (e.g., there is no download link), or destination path does not exist.\n",
      "Done!\n",
      "./brats_2015/23_logs/Testing/HGG_LGG/brats_tcia_pat500_0403/VSD.Brain.XX.O.MR_T1c.41228\n",
      "Making ./brats_2015/23_logs/Testing/HGG_LGG/brats_tcia_pat500_0403/VSD.Brain.XX.O.MR_T1c.41228\n",
      "./brats_2015/23_logs/Testing/HGG_LGG/brats_tcia_pat500_0403/VSD.Brain.XX.O.MR_T1c.41228/VSD.Brain.XX.O.MR_T1c.41228.mha\n",
      "Downloading VSD.Brain.XX.O.MR_T1c.41228.mha to ./brats_2015/23_logs/Testing/HGG_LGG/brats_tcia_pat500_0403/VSD.Brain.XX.O.MR_T1c.41228/VSD.Brain.XX.O.MR_T1c.41228.mha\n",
      "Error. Likely, either downloading this file is impossible (e.g., there is no download link), or destination path does not exist.\n",
      "./brats_2015/23_logs/Testing/HGG_LGG/brats_tcia_pat500_0403/VSD.Brain.XX.O.MR_T1c.41228/License_CC_BY_NC_SA_3.0.txt\n",
      "Downloading License_CC_BY_NC_SA_3.0.txt to ./brats_2015/23_logs/Testing/HGG_LGG/brats_tcia_pat500_0403/VSD.Brain.XX.O.MR_T1c.41228/License_CC_BY_NC_SA_3.0.txt\n",
      "Error. Likely, either downloading this file is impossible (e.g., there is no download link), or destination path does not exist.\n",
      "Done!\n",
      "./brats_2015/23_logs/Testing/HGG_LGG/brats_tcia_pat500_0403/VSD.Brain.XX.O.MR_T1.41229\n",
      "Making ./brats_2015/23_logs/Testing/HGG_LGG/brats_tcia_pat500_0403/VSD.Brain.XX.O.MR_T1.41229\n",
      "./brats_2015/23_logs/Testing/HGG_LGG/brats_tcia_pat500_0403/VSD.Brain.XX.O.MR_T1.41229/VSD.Brain.XX.O.MR_T1.41229.mha\n",
      "Downloading VSD.Brain.XX.O.MR_T1.41229.mha to ./brats_2015/23_logs/Testing/HGG_LGG/brats_tcia_pat500_0403/VSD.Brain.XX.O.MR_T1.41229/VSD.Brain.XX.O.MR_T1.41229.mha\n",
      "Error. Likely, either downloading this file is impossible (e.g., there is no download link), or destination path does not exist.\n",
      "./brats_2015/23_logs/Testing/HGG_LGG/brats_tcia_pat500_0403/VSD.Brain.XX.O.MR_T1.41229/License_CC_BY_NC_SA_3.0.txt\n",
      "Downloading License_CC_BY_NC_SA_3.0.txt to ./brats_2015/23_logs/Testing/HGG_LGG/brats_tcia_pat500_0403/VSD.Brain.XX.O.MR_T1.41229/License_CC_BY_NC_SA_3.0.txt\n",
      "Error. Likely, either downloading this file is impossible (e.g., there is no download link), or destination path does not exist.\n",
      "Done!\n",
      "./brats_2015/23_logs/Testing/HGG_LGG/brats_tcia_pat500_0403/VSD.Brain.XX.O.MR_Flair.41226\n",
      "Making ./brats_2015/23_logs/Testing/HGG_LGG/brats_tcia_pat500_0403/VSD.Brain.XX.O.MR_Flair.41226\n",
      "./brats_2015/23_logs/Testing/HGG_LGG/brats_tcia_pat500_0403/VSD.Brain.XX.O.MR_Flair.41226/VSD.Brain.XX.O.MR_Flair.41226.mha\n",
      "Downloading VSD.Brain.XX.O.MR_Flair.41226.mha to ./brats_2015/23_logs/Testing/HGG_LGG/brats_tcia_pat500_0403/VSD.Brain.XX.O.MR_Flair.41226/VSD.Brain.XX.O.MR_Flair.41226.mha\n",
      "Error. Likely, either downloading this file is impossible (e.g., there is no download link), or destination path does not exist.\n",
      "./brats_2015/23_logs/Testing/HGG_LGG/brats_tcia_pat500_0403/VSD.Brain.XX.O.MR_Flair.41226/License_CC_BY_NC_SA_3.0.txt\n",
      "Downloading License_CC_BY_NC_SA_3.0.txt to ./brats_2015/23_logs/Testing/HGG_LGG/brats_tcia_pat500_0403/VSD.Brain.XX.O.MR_Flair.41226/License_CC_BY_NC_SA_3.0.txt\n",
      "Error. Likely, either downloading this file is impossible (e.g., there is no download link), or destination path does not exist.\n",
      "Done!\n",
      "Done!\n",
      "./brats_2015/23_logs/Testing/HGG_LGG/brats_tcia_pat500_0592\n",
      "Making ./brats_2015/23_logs/Testing/HGG_LGG/brats_tcia_pat500_0592\n",
      "./brats_2015/23_logs/Testing/HGG_LGG/brats_tcia_pat500_0592/VSD.Brain.XX.O.MR_Flair.41222\n",
      "Making ./brats_2015/23_logs/Testing/HGG_LGG/brats_tcia_pat500_0592/VSD.Brain.XX.O.MR_Flair.41222\n",
      "./brats_2015/23_logs/Testing/HGG_LGG/brats_tcia_pat500_0592/VSD.Brain.XX.O.MR_Flair.41222/VSD.Brain.XX.O.MR_Flair.41222.mha\n",
      "Downloading VSD.Brain.XX.O.MR_Flair.41222.mha to ./brats_2015/23_logs/Testing/HGG_LGG/brats_tcia_pat500_0592/VSD.Brain.XX.O.MR_Flair.41222/VSD.Brain.XX.O.MR_Flair.41222.mha\n",
      "Error. Likely, either downloading this file is impossible (e.g., there is no download link), or destination path does not exist.\n",
      "./brats_2015/23_logs/Testing/HGG_LGG/brats_tcia_pat500_0592/VSD.Brain.XX.O.MR_Flair.41222/License_CC_BY_NC_SA_3.0.txt\n",
      "Downloading License_CC_BY_NC_SA_3.0.txt to ./brats_2015/23_logs/Testing/HGG_LGG/brats_tcia_pat500_0592/VSD.Brain.XX.O.MR_Flair.41222/License_CC_BY_NC_SA_3.0.txt\n",
      "Error. Likely, either downloading this file is impossible (e.g., there is no download link), or destination path does not exist.\n",
      "Done!\n",
      "./brats_2015/23_logs/Testing/HGG_LGG/brats_tcia_pat500_0592/VSD.Brain.XX.O.MR_T2.41223\n",
      "Making ./brats_2015/23_logs/Testing/HGG_LGG/brats_tcia_pat500_0592/VSD.Brain.XX.O.MR_T2.41223\n",
      "./brats_2015/23_logs/Testing/HGG_LGG/brats_tcia_pat500_0592/VSD.Brain.XX.O.MR_T2.41223/VSD.Brain.XX.O.MR_T2.41223.mha\n",
      "Downloading VSD.Brain.XX.O.MR_T2.41223.mha to ./brats_2015/23_logs/Testing/HGG_LGG/brats_tcia_pat500_0592/VSD.Brain.XX.O.MR_T2.41223/VSD.Brain.XX.O.MR_T2.41223.mha\n",
      "Error. Likely, either downloading this file is impossible (e.g., there is no download link), or destination path does not exist.\n",
      "./brats_2015/23_logs/Testing/HGG_LGG/brats_tcia_pat500_0592/VSD.Brain.XX.O.MR_T2.41223/License_CC_BY_NC_SA_3.0.txt\n",
      "Downloading License_CC_BY_NC_SA_3.0.txt to ./brats_2015/23_logs/Testing/HGG_LGG/brats_tcia_pat500_0592/VSD.Brain.XX.O.MR_T2.41223/License_CC_BY_NC_SA_3.0.txt\n",
      "Error. Likely, either downloading this file is impossible (e.g., there is no download link), or destination path does not exist.\n",
      "Done!\n",
      "./brats_2015/23_logs/Testing/HGG_LGG/brats_tcia_pat500_0592/VSD.Brain.XX.O.MR_T1c.41224\n",
      "Making ./brats_2015/23_logs/Testing/HGG_LGG/brats_tcia_pat500_0592/VSD.Brain.XX.O.MR_T1c.41224\n",
      "./brats_2015/23_logs/Testing/HGG_LGG/brats_tcia_pat500_0592/VSD.Brain.XX.O.MR_T1c.41224/VSD.Brain.XX.O.MR_T1c.41224.mha\n",
      "Downloading VSD.Brain.XX.O.MR_T1c.41224.mha to ./brats_2015/23_logs/Testing/HGG_LGG/brats_tcia_pat500_0592/VSD.Brain.XX.O.MR_T1c.41224/VSD.Brain.XX.O.MR_T1c.41224.mha\n",
      "Error. Likely, either downloading this file is impossible (e.g., there is no download link), or destination path does not exist.\n",
      "./brats_2015/23_logs/Testing/HGG_LGG/brats_tcia_pat500_0592/VSD.Brain.XX.O.MR_T1c.41224/License_CC_BY_NC_SA_3.0.txt\n",
      "Downloading License_CC_BY_NC_SA_3.0.txt to ./brats_2015/23_logs/Testing/HGG_LGG/brats_tcia_pat500_0592/VSD.Brain.XX.O.MR_T1c.41224/License_CC_BY_NC_SA_3.0.txt\n",
      "Error. Likely, either downloading this file is impossible (e.g., there is no download link), or destination path does not exist.\n",
      "Done!\n",
      "./brats_2015/23_logs/Testing/HGG_LGG/brats_tcia_pat500_0592/VSD.Brain.XX.O.MR_T1.41225\n",
      "Making ./brats_2015/23_logs/Testing/HGG_LGG/brats_tcia_pat500_0592/VSD.Brain.XX.O.MR_T1.41225\n",
      "./brats_2015/23_logs/Testing/HGG_LGG/brats_tcia_pat500_0592/VSD.Brain.XX.O.MR_T1.41225/VSD.Brain.XX.O.MR_T1.41225.mha\n",
      "Downloading VSD.Brain.XX.O.MR_T1.41225.mha to ./brats_2015/23_logs/Testing/HGG_LGG/brats_tcia_pat500_0592/VSD.Brain.XX.O.MR_T1.41225/VSD.Brain.XX.O.MR_T1.41225.mha\n",
      "Error. Likely, either downloading this file is impossible (e.g., there is no download link), or destination path does not exist.\n",
      "./brats_2015/23_logs/Testing/HGG_LGG/brats_tcia_pat500_0592/VSD.Brain.XX.O.MR_T1.41225/License_CC_BY_NC_SA_3.0.txt\n",
      "Downloading License_CC_BY_NC_SA_3.0.txt to ./brats_2015/23_logs/Testing/HGG_LGG/brats_tcia_pat500_0592/VSD.Brain.XX.O.MR_T1.41225/License_CC_BY_NC_SA_3.0.txt\n",
      "Error. Likely, either downloading this file is impossible (e.g., there is no download link), or destination path does not exist.\n",
      "Done!\n",
      "Done!\n",
      "./brats_2015/23_logs/Testing/HGG_LGG/brats_tcia_pat500_0268\n",
      "Making ./brats_2015/23_logs/Testing/HGG_LGG/brats_tcia_pat500_0268\n",
      "./brats_2015/23_logs/Testing/HGG_LGG/brats_tcia_pat500_0268/VSD.Brain.XX.O.MR_T1.41193\n",
      "Making ./brats_2015/23_logs/Testing/HGG_LGG/brats_tcia_pat500_0268/VSD.Brain.XX.O.MR_T1.41193\n",
      "./brats_2015/23_logs/Testing/HGG_LGG/brats_tcia_pat500_0268/VSD.Brain.XX.O.MR_T1.41193/VSD.Brain.XX.O.MR_T1.41193.mha\n",
      "Downloading VSD.Brain.XX.O.MR_T1.41193.mha to ./brats_2015/23_logs/Testing/HGG_LGG/brats_tcia_pat500_0268/VSD.Brain.XX.O.MR_T1.41193/VSD.Brain.XX.O.MR_T1.41193.mha\n",
      "Error. Likely, either downloading this file is impossible (e.g., there is no download link), or destination path does not exist.\n",
      "./brats_2015/23_logs/Testing/HGG_LGG/brats_tcia_pat500_0268/VSD.Brain.XX.O.MR_T1.41193/License_CC_BY_NC_SA_3.0.txt\n",
      "Downloading License_CC_BY_NC_SA_3.0.txt to ./brats_2015/23_logs/Testing/HGG_LGG/brats_tcia_pat500_0268/VSD.Brain.XX.O.MR_T1.41193/License_CC_BY_NC_SA_3.0.txt\n",
      "Error. Likely, either downloading this file is impossible (e.g., there is no download link), or destination path does not exist.\n",
      "Done!\n",
      "./brats_2015/23_logs/Testing/HGG_LGG/brats_tcia_pat500_0268/VSD.Brain.XX.O.MR_Flair.41190\n",
      "Making ./brats_2015/23_logs/Testing/HGG_LGG/brats_tcia_pat500_0268/VSD.Brain.XX.O.MR_Flair.41190\n",
      "./brats_2015/23_logs/Testing/HGG_LGG/brats_tcia_pat500_0268/VSD.Brain.XX.O.MR_Flair.41190/VSD.Brain.XX.O.MR_Flair.41190.mha\n",
      "Downloading VSD.Brain.XX.O.MR_Flair.41190.mha to ./brats_2015/23_logs/Testing/HGG_LGG/brats_tcia_pat500_0268/VSD.Brain.XX.O.MR_Flair.41190/VSD.Brain.XX.O.MR_Flair.41190.mha\n",
      "Error. Likely, either downloading this file is impossible (e.g., there is no download link), or destination path does not exist.\n",
      "./brats_2015/23_logs/Testing/HGG_LGG/brats_tcia_pat500_0268/VSD.Brain.XX.O.MR_Flair.41190/License_CC_BY_NC_SA_3.0.txt\n",
      "Downloading License_CC_BY_NC_SA_3.0.txt to ./brats_2015/23_logs/Testing/HGG_LGG/brats_tcia_pat500_0268/VSD.Brain.XX.O.MR_Flair.41190/License_CC_BY_NC_SA_3.0.txt\n",
      "Error. Likely, either downloading this file is impossible (e.g., there is no download link), or destination path does not exist.\n",
      "Done!\n",
      "./brats_2015/23_logs/Testing/HGG_LGG/brats_tcia_pat500_0268/VSD.Brain.XX.O.MR_T1c.41192\n",
      "Making ./brats_2015/23_logs/Testing/HGG_LGG/brats_tcia_pat500_0268/VSD.Brain.XX.O.MR_T1c.41192\n",
      "./brats_2015/23_logs/Testing/HGG_LGG/brats_tcia_pat500_0268/VSD.Brain.XX.O.MR_T1c.41192/VSD.Brain.XX.O.MR_T1c.41192.mha\n",
      "Downloading VSD.Brain.XX.O.MR_T1c.41192.mha to ./brats_2015/23_logs/Testing/HGG_LGG/brats_tcia_pat500_0268/VSD.Brain.XX.O.MR_T1c.41192/VSD.Brain.XX.O.MR_T1c.41192.mha\n",
      "Error. Likely, either downloading this file is impossible (e.g., there is no download link), or destination path does not exist.\n",
      "./brats_2015/23_logs/Testing/HGG_LGG/brats_tcia_pat500_0268/VSD.Brain.XX.O.MR_T1c.41192/License_CC_BY_NC_SA_3.0.txt\n",
      "Downloading License_CC_BY_NC_SA_3.0.txt to ./brats_2015/23_logs/Testing/HGG_LGG/brats_tcia_pat500_0268/VSD.Brain.XX.O.MR_T1c.41192/License_CC_BY_NC_SA_3.0.txt\n",
      "Error. Likely, either downloading this file is impossible (e.g., there is no download link), or destination path does not exist.\n",
      "Done!\n",
      "./brats_2015/23_logs/Testing/HGG_LGG/brats_tcia_pat500_0268/VSD.Brain.XX.O.MR_T2.41191\n",
      "Making ./brats_2015/23_logs/Testing/HGG_LGG/brats_tcia_pat500_0268/VSD.Brain.XX.O.MR_T2.41191\n",
      "./brats_2015/23_logs/Testing/HGG_LGG/brats_tcia_pat500_0268/VSD.Brain.XX.O.MR_T2.41191/VSD.Brain.XX.O.MR_T2.41191.mha\n",
      "Downloading VSD.Brain.XX.O.MR_T2.41191.mha to ./brats_2015/23_logs/Testing/HGG_LGG/brats_tcia_pat500_0268/VSD.Brain.XX.O.MR_T2.41191/VSD.Brain.XX.O.MR_T2.41191.mha\n",
      "Error. Likely, either downloading this file is impossible (e.g., there is no download link), or destination path does not exist.\n",
      "./brats_2015/23_logs/Testing/HGG_LGG/brats_tcia_pat500_0268/VSD.Brain.XX.O.MR_T2.41191/License_CC_BY_NC_SA_3.0.txt\n",
      "Downloading License_CC_BY_NC_SA_3.0.txt to ./brats_2015/23_logs/Testing/HGG_LGG/brats_tcia_pat500_0268/VSD.Brain.XX.O.MR_T2.41191/License_CC_BY_NC_SA_3.0.txt\n",
      "Error. Likely, either downloading this file is impossible (e.g., there is no download link), or destination path does not exist.\n",
      "Done!\n",
      "Done!\n",
      "./brats_2015/23_logs/Testing/HGG_LGG/brats_tcia_pat500_0028\n",
      "Making ./brats_2015/23_logs/Testing/HGG_LGG/brats_tcia_pat500_0028\n",
      "./brats_2015/23_logs/Testing/HGG_LGG/brats_tcia_pat500_0028/VSD.Brain.XX.O.MR_T2.41211\n",
      "Making ./brats_2015/23_logs/Testing/HGG_LGG/brats_tcia_pat500_0028/VSD.Brain.XX.O.MR_T2.41211\n",
      "./brats_2015/23_logs/Testing/HGG_LGG/brats_tcia_pat500_0028/VSD.Brain.XX.O.MR_T2.41211/VSD.Brain.XX.O.MR_T2.41211.mha\n",
      "Downloading VSD.Brain.XX.O.MR_T2.41211.mha to ./brats_2015/23_logs/Testing/HGG_LGG/brats_tcia_pat500_0028/VSD.Brain.XX.O.MR_T2.41211/VSD.Brain.XX.O.MR_T2.41211.mha\n",
      "Error. Likely, either downloading this file is impossible (e.g., there is no download link), or destination path does not exist.\n",
      "./brats_2015/23_logs/Testing/HGG_LGG/brats_tcia_pat500_0028/VSD.Brain.XX.O.MR_T2.41211/License_CC_BY_NC_SA_3.0.txt\n",
      "Downloading License_CC_BY_NC_SA_3.0.txt to ./brats_2015/23_logs/Testing/HGG_LGG/brats_tcia_pat500_0028/VSD.Brain.XX.O.MR_T2.41211/License_CC_BY_NC_SA_3.0.txt\n",
      "Error. Likely, either downloading this file is impossible (e.g., there is no download link), or destination path does not exist.\n",
      "Done!\n",
      "./brats_2015/23_logs/Testing/HGG_LGG/brats_tcia_pat500_0028/VSD.Brain.XX.O.MR_T1c.41212\n",
      "Making ./brats_2015/23_logs/Testing/HGG_LGG/brats_tcia_pat500_0028/VSD.Brain.XX.O.MR_T1c.41212\n",
      "./brats_2015/23_logs/Testing/HGG_LGG/brats_tcia_pat500_0028/VSD.Brain.XX.O.MR_T1c.41212/VSD.Brain.XX.O.MR_T1c.41212.mha\n",
      "Downloading VSD.Brain.XX.O.MR_T1c.41212.mha to ./brats_2015/23_logs/Testing/HGG_LGG/brats_tcia_pat500_0028/VSD.Brain.XX.O.MR_T1c.41212/VSD.Brain.XX.O.MR_T1c.41212.mha\n",
      "Error. Likely, either downloading this file is impossible (e.g., there is no download link), or destination path does not exist.\n",
      "./brats_2015/23_logs/Testing/HGG_LGG/brats_tcia_pat500_0028/VSD.Brain.XX.O.MR_T1c.41212/License_CC_BY_NC_SA_3.0.txt\n",
      "Downloading License_CC_BY_NC_SA_3.0.txt to ./brats_2015/23_logs/Testing/HGG_LGG/brats_tcia_pat500_0028/VSD.Brain.XX.O.MR_T1c.41212/License_CC_BY_NC_SA_3.0.txt\n",
      "Error. Likely, either downloading this file is impossible (e.g., there is no download link), or destination path does not exist.\n",
      "Done!\n",
      "./brats_2015/23_logs/Testing/HGG_LGG/brats_tcia_pat500_0028/VSD.Brain.XX.O.MR_T1.41213\n",
      "Making ./brats_2015/23_logs/Testing/HGG_LGG/brats_tcia_pat500_0028/VSD.Brain.XX.O.MR_T1.41213\n",
      "./brats_2015/23_logs/Testing/HGG_LGG/brats_tcia_pat500_0028/VSD.Brain.XX.O.MR_T1.41213/VSD.Brain.XX.O.MR_T1.41213.mha\n",
      "Downloading VSD.Brain.XX.O.MR_T1.41213.mha to ./brats_2015/23_logs/Testing/HGG_LGG/brats_tcia_pat500_0028/VSD.Brain.XX.O.MR_T1.41213/VSD.Brain.XX.O.MR_T1.41213.mha\n",
      "Error. Likely, either downloading this file is impossible (e.g., there is no download link), or destination path does not exist.\n",
      "./brats_2015/23_logs/Testing/HGG_LGG/brats_tcia_pat500_0028/VSD.Brain.XX.O.MR_T1.41213/License_CC_BY_NC_SA_3.0.txt\n",
      "Downloading License_CC_BY_NC_SA_3.0.txt to ./brats_2015/23_logs/Testing/HGG_LGG/brats_tcia_pat500_0028/VSD.Brain.XX.O.MR_T1.41213/License_CC_BY_NC_SA_3.0.txt\n",
      "Error. Likely, either downloading this file is impossible (e.g., there is no download link), or destination path does not exist.\n",
      "Done!\n",
      "./brats_2015/23_logs/Testing/HGG_LGG/brats_tcia_pat500_0028/VSD.Brain.XX.O.MR_Flair.41210\n",
      "Making ./brats_2015/23_logs/Testing/HGG_LGG/brats_tcia_pat500_0028/VSD.Brain.XX.O.MR_Flair.41210\n",
      "./brats_2015/23_logs/Testing/HGG_LGG/brats_tcia_pat500_0028/VSD.Brain.XX.O.MR_Flair.41210/VSD.Brain.XX.O.MR_Flair.41210.mha\n",
      "Downloading VSD.Brain.XX.O.MR_Flair.41210.mha to ./brats_2015/23_logs/Testing/HGG_LGG/brats_tcia_pat500_0028/VSD.Brain.XX.O.MR_Flair.41210/VSD.Brain.XX.O.MR_Flair.41210.mha\n",
      "Error. Likely, either downloading this file is impossible (e.g., there is no download link), or destination path does not exist.\n",
      "./brats_2015/23_logs/Testing/HGG_LGG/brats_tcia_pat500_0028/VSD.Brain.XX.O.MR_Flair.41210/License_CC_BY_NC_SA_3.0.txt\n",
      "Downloading License_CC_BY_NC_SA_3.0.txt to ./brats_2015/23_logs/Testing/HGG_LGG/brats_tcia_pat500_0028/VSD.Brain.XX.O.MR_Flair.41210/License_CC_BY_NC_SA_3.0.txt\n",
      "Error. Likely, either downloading this file is impossible (e.g., there is no download link), or destination path does not exist.\n",
      "Done!\n",
      "Done!\n",
      "./brats_2015/23_logs/Testing/HGG_LGG/brats_tcia_pat500_0002\n",
      "Making ./brats_2015/23_logs/Testing/HGG_LGG/brats_tcia_pat500_0002\n",
      "./brats_2015/23_logs/Testing/HGG_LGG/brats_tcia_pat500_0002/VSD.Brain.XX.O.MR_T2.40812\n",
      "Making ./brats_2015/23_logs/Testing/HGG_LGG/brats_tcia_pat500_0002/VSD.Brain.XX.O.MR_T2.40812\n",
      "./brats_2015/23_logs/Testing/HGG_LGG/brats_tcia_pat500_0002/VSD.Brain.XX.O.MR_T2.40812/VSD.Brain.XX.O.MR_T2.40812.mha\n",
      "Downloading VSD.Brain.XX.O.MR_T2.40812.mha to ./brats_2015/23_logs/Testing/HGG_LGG/brats_tcia_pat500_0002/VSD.Brain.XX.O.MR_T2.40812/VSD.Brain.XX.O.MR_T2.40812.mha\n",
      "Error. Likely, either downloading this file is impossible (e.g., there is no download link), or destination path does not exist.\n",
      "./brats_2015/23_logs/Testing/HGG_LGG/brats_tcia_pat500_0002/VSD.Brain.XX.O.MR_T2.40812/License_CC_BY_NC_SA_3.0.txt\n",
      "Downloading License_CC_BY_NC_SA_3.0.txt to ./brats_2015/23_logs/Testing/HGG_LGG/brats_tcia_pat500_0002/VSD.Brain.XX.O.MR_T2.40812/License_CC_BY_NC_SA_3.0.txt\n",
      "Error. Likely, either downloading this file is impossible (e.g., there is no download link), or destination path does not exist.\n",
      "Done!\n",
      "./brats_2015/23_logs/Testing/HGG_LGG/brats_tcia_pat500_0002/VSD.Brain.XX.O.MR_T1c.40813\n",
      "Making ./brats_2015/23_logs/Testing/HGG_LGG/brats_tcia_pat500_0002/VSD.Brain.XX.O.MR_T1c.40813\n",
      "./brats_2015/23_logs/Testing/HGG_LGG/brats_tcia_pat500_0002/VSD.Brain.XX.O.MR_T1c.40813/VSD.Brain.XX.O.MR_T1c.40813.mha\n",
      "Downloading VSD.Brain.XX.O.MR_T1c.40813.mha to ./brats_2015/23_logs/Testing/HGG_LGG/brats_tcia_pat500_0002/VSD.Brain.XX.O.MR_T1c.40813/VSD.Brain.XX.O.MR_T1c.40813.mha\n",
      "Error. Likely, either downloading this file is impossible (e.g., there is no download link), or destination path does not exist.\n",
      "./brats_2015/23_logs/Testing/HGG_LGG/brats_tcia_pat500_0002/VSD.Brain.XX.O.MR_T1c.40813/License_CC_BY_NC_SA_3.0.txt\n",
      "Downloading License_CC_BY_NC_SA_3.0.txt to ./brats_2015/23_logs/Testing/HGG_LGG/brats_tcia_pat500_0002/VSD.Brain.XX.O.MR_T1c.40813/License_CC_BY_NC_SA_3.0.txt\n",
      "Error. Likely, either downloading this file is impossible (e.g., there is no download link), or destination path does not exist.\n",
      "Done!\n",
      "./brats_2015/23_logs/Testing/HGG_LGG/brats_tcia_pat500_0002/VSD.Brain.XX.O.MR_T1.40814\n",
      "Making ./brats_2015/23_logs/Testing/HGG_LGG/brats_tcia_pat500_0002/VSD.Brain.XX.O.MR_T1.40814\n",
      "./brats_2015/23_logs/Testing/HGG_LGG/brats_tcia_pat500_0002/VSD.Brain.XX.O.MR_T1.40814/VSD.Brain.XX.O.MR_T1.40814.mha\n",
      "Downloading VSD.Brain.XX.O.MR_T1.40814.mha to ./brats_2015/23_logs/Testing/HGG_LGG/brats_tcia_pat500_0002/VSD.Brain.XX.O.MR_T1.40814/VSD.Brain.XX.O.MR_T1.40814.mha\n",
      "Error. Likely, either downloading this file is impossible (e.g., there is no download link), or destination path does not exist.\n",
      "./brats_2015/23_logs/Testing/HGG_LGG/brats_tcia_pat500_0002/VSD.Brain.XX.O.MR_T1.40814/License_CC_BY_NC_SA_3.0.txt\n",
      "Downloading License_CC_BY_NC_SA_3.0.txt to ./brats_2015/23_logs/Testing/HGG_LGG/brats_tcia_pat500_0002/VSD.Brain.XX.O.MR_T1.40814/License_CC_BY_NC_SA_3.0.txt\n",
      "Error. Likely, either downloading this file is impossible (e.g., there is no download link), or destination path does not exist.\n",
      "Done!\n",
      "./brats_2015/23_logs/Testing/HGG_LGG/brats_tcia_pat500_0002/VSD.Brain.XX.O.MR_Flair.40811\n",
      "Making ./brats_2015/23_logs/Testing/HGG_LGG/brats_tcia_pat500_0002/VSD.Brain.XX.O.MR_Flair.40811\n",
      "./brats_2015/23_logs/Testing/HGG_LGG/brats_tcia_pat500_0002/VSD.Brain.XX.O.MR_Flair.40811/VSD.Brain.XX.O.MR_Flair.40811.mha\n",
      "Downloading VSD.Brain.XX.O.MR_Flair.40811.mha to ./brats_2015/23_logs/Testing/HGG_LGG/brats_tcia_pat500_0002/VSD.Brain.XX.O.MR_Flair.40811/VSD.Brain.XX.O.MR_Flair.40811.mha\n",
      "Error. Likely, either downloading this file is impossible (e.g., there is no download link), or destination path does not exist.\n",
      "./brats_2015/23_logs/Testing/HGG_LGG/brats_tcia_pat500_0002/VSD.Brain.XX.O.MR_Flair.40811/License_CC_BY_NC_SA_3.0.txt\n",
      "Downloading License_CC_BY_NC_SA_3.0.txt to ./brats_2015/23_logs/Testing/HGG_LGG/brats_tcia_pat500_0002/VSD.Brain.XX.O.MR_Flair.40811/License_CC_BY_NC_SA_3.0.txt\n",
      "Error. Likely, either downloading this file is impossible (e.g., there is no download link), or destination path does not exist.\n",
      "Done!\n",
      "Done!\n",
      "./brats_2015/23_logs/Testing/HGG_LGG/brats_tcia_pat500_0206\n",
      "Making ./brats_2015/23_logs/Testing/HGG_LGG/brats_tcia_pat500_0206\n",
      "./brats_2015/23_logs/Testing/HGG_LGG/brats_tcia_pat500_0206/VSD.Brain.XX.O.MR_T1c.41188\n",
      "Making ./brats_2015/23_logs/Testing/HGG_LGG/brats_tcia_pat500_0206/VSD.Brain.XX.O.MR_T1c.41188\n",
      "./brats_2015/23_logs/Testing/HGG_LGG/brats_tcia_pat500_0206/VSD.Brain.XX.O.MR_T1c.41188/VSD.Brain.XX.O.MR_T1c.41188.mha\n",
      "Downloading VSD.Brain.XX.O.MR_T1c.41188.mha to ./brats_2015/23_logs/Testing/HGG_LGG/brats_tcia_pat500_0206/VSD.Brain.XX.O.MR_T1c.41188/VSD.Brain.XX.O.MR_T1c.41188.mha\n",
      "Error. Likely, either downloading this file is impossible (e.g., there is no download link), or destination path does not exist.\n",
      "./brats_2015/23_logs/Testing/HGG_LGG/brats_tcia_pat500_0206/VSD.Brain.XX.O.MR_T1c.41188/License_CC_BY_NC_SA_3.0.txt\n",
      "Downloading License_CC_BY_NC_SA_3.0.txt to ./brats_2015/23_logs/Testing/HGG_LGG/brats_tcia_pat500_0206/VSD.Brain.XX.O.MR_T1c.41188/License_CC_BY_NC_SA_3.0.txt\n",
      "Error. Likely, either downloading this file is impossible (e.g., there is no download link), or destination path does not exist.\n",
      "Done!\n",
      "./brats_2015/23_logs/Testing/HGG_LGG/brats_tcia_pat500_0206/VSD.Brain.XX.O.MR_T2.41187\n",
      "Making ./brats_2015/23_logs/Testing/HGG_LGG/brats_tcia_pat500_0206/VSD.Brain.XX.O.MR_T2.41187\n",
      "./brats_2015/23_logs/Testing/HGG_LGG/brats_tcia_pat500_0206/VSD.Brain.XX.O.MR_T2.41187/VSD.Brain.XX.O.MR_T2.41187.mha\n",
      "Downloading VSD.Brain.XX.O.MR_T2.41187.mha to ./brats_2015/23_logs/Testing/HGG_LGG/brats_tcia_pat500_0206/VSD.Brain.XX.O.MR_T2.41187/VSD.Brain.XX.O.MR_T2.41187.mha\n",
      "Error. Likely, either downloading this file is impossible (e.g., there is no download link), or destination path does not exist.\n",
      "./brats_2015/23_logs/Testing/HGG_LGG/brats_tcia_pat500_0206/VSD.Brain.XX.O.MR_T2.41187/License_CC_BY_NC_SA_3.0.txt\n",
      "Downloading License_CC_BY_NC_SA_3.0.txt to ./brats_2015/23_logs/Testing/HGG_LGG/brats_tcia_pat500_0206/VSD.Brain.XX.O.MR_T2.41187/License_CC_BY_NC_SA_3.0.txt\n",
      "Error. Likely, either downloading this file is impossible (e.g., there is no download link), or destination path does not exist.\n",
      "Done!\n",
      "./brats_2015/23_logs/Testing/HGG_LGG/brats_tcia_pat500_0206/VSD.Brain.XX.O.MR_T1.41189\n",
      "Making ./brats_2015/23_logs/Testing/HGG_LGG/brats_tcia_pat500_0206/VSD.Brain.XX.O.MR_T1.41189\n",
      "./brats_2015/23_logs/Testing/HGG_LGG/brats_tcia_pat500_0206/VSD.Brain.XX.O.MR_T1.41189/VSD.Brain.XX.O.MR_T1.41189.mha\n",
      "Downloading VSD.Brain.XX.O.MR_T1.41189.mha to ./brats_2015/23_logs/Testing/HGG_LGG/brats_tcia_pat500_0206/VSD.Brain.XX.O.MR_T1.41189/VSD.Brain.XX.O.MR_T1.41189.mha\n",
      "Error. Likely, either downloading this file is impossible (e.g., there is no download link), or destination path does not exist.\n",
      "./brats_2015/23_logs/Testing/HGG_LGG/brats_tcia_pat500_0206/VSD.Brain.XX.O.MR_T1.41189/License_CC_BY_NC_SA_3.0.txt\n",
      "Downloading License_CC_BY_NC_SA_3.0.txt to ./brats_2015/23_logs/Testing/HGG_LGG/brats_tcia_pat500_0206/VSD.Brain.XX.O.MR_T1.41189/License_CC_BY_NC_SA_3.0.txt\n",
      "Error. Likely, either downloading this file is impossible (e.g., there is no download link), or destination path does not exist.\n",
      "Done!\n",
      "./brats_2015/23_logs/Testing/HGG_LGG/brats_tcia_pat500_0206/VSD.Brain.XX.O.MR_Flair.41186\n",
      "Making ./brats_2015/23_logs/Testing/HGG_LGG/brats_tcia_pat500_0206/VSD.Brain.XX.O.MR_Flair.41186\n",
      "./brats_2015/23_logs/Testing/HGG_LGG/brats_tcia_pat500_0206/VSD.Brain.XX.O.MR_Flair.41186/VSD.Brain.XX.O.MR_Flair.41186.mha\n",
      "Downloading VSD.Brain.XX.O.MR_Flair.41186.mha to ./brats_2015/23_logs/Testing/HGG_LGG/brats_tcia_pat500_0206/VSD.Brain.XX.O.MR_Flair.41186/VSD.Brain.XX.O.MR_Flair.41186.mha\n",
      "Error. Likely, either downloading this file is impossible (e.g., there is no download link), or destination path does not exist.\n",
      "./brats_2015/23_logs/Testing/HGG_LGG/brats_tcia_pat500_0206/VSD.Brain.XX.O.MR_Flair.41186/License_CC_BY_NC_SA_3.0.txt\n",
      "Downloading License_CC_BY_NC_SA_3.0.txt to ./brats_2015/23_logs/Testing/HGG_LGG/brats_tcia_pat500_0206/VSD.Brain.XX.O.MR_Flair.41186/License_CC_BY_NC_SA_3.0.txt\n",
      "Error. Likely, either downloading this file is impossible (e.g., there is no download link), or destination path does not exist.\n",
      "Done!\n",
      "Done!\n",
      "./brats_2015/23_logs/Testing/HGG_LGG/brats_tcia_pat500_0030\n",
      "Making ./brats_2015/23_logs/Testing/HGG_LGG/brats_tcia_pat500_0030\n",
      "./brats_2015/23_logs/Testing/HGG_LGG/brats_tcia_pat500_0030/VSD.Brain.XX.O.MR_T1c.40809\n",
      "Making ./brats_2015/23_logs/Testing/HGG_LGG/brats_tcia_pat500_0030/VSD.Brain.XX.O.MR_T1c.40809\n",
      "./brats_2015/23_logs/Testing/HGG_LGG/brats_tcia_pat500_0030/VSD.Brain.XX.O.MR_T1c.40809/VSD.Brain.XX.O.MR_T1c.40809.mha\n",
      "Downloading VSD.Brain.XX.O.MR_T1c.40809.mha to ./brats_2015/23_logs/Testing/HGG_LGG/brats_tcia_pat500_0030/VSD.Brain.XX.O.MR_T1c.40809/VSD.Brain.XX.O.MR_T1c.40809.mha\n",
      "Error. Likely, either downloading this file is impossible (e.g., there is no download link), or destination path does not exist.\n",
      "./brats_2015/23_logs/Testing/HGG_LGG/brats_tcia_pat500_0030/VSD.Brain.XX.O.MR_T1c.40809/License_CC_BY_NC_SA_3.0.txt\n",
      "Downloading License_CC_BY_NC_SA_3.0.txt to ./brats_2015/23_logs/Testing/HGG_LGG/brats_tcia_pat500_0030/VSD.Brain.XX.O.MR_T1c.40809/License_CC_BY_NC_SA_3.0.txt\n",
      "Error. Likely, either downloading this file is impossible (e.g., there is no download link), or destination path does not exist.\n",
      "Done!\n",
      "./brats_2015/23_logs/Testing/HGG_LGG/brats_tcia_pat500_0030/VSD.Brain.XX.O.MR_T1.40810\n",
      "Making ./brats_2015/23_logs/Testing/HGG_LGG/brats_tcia_pat500_0030/VSD.Brain.XX.O.MR_T1.40810\n",
      "./brats_2015/23_logs/Testing/HGG_LGG/brats_tcia_pat500_0030/VSD.Brain.XX.O.MR_T1.40810/VSD.Brain.XX.O.MR_T1.40810.mha\n",
      "Downloading VSD.Brain.XX.O.MR_T1.40810.mha to ./brats_2015/23_logs/Testing/HGG_LGG/brats_tcia_pat500_0030/VSD.Brain.XX.O.MR_T1.40810/VSD.Brain.XX.O.MR_T1.40810.mha\n",
      "Error. Likely, either downloading this file is impossible (e.g., there is no download link), or destination path does not exist.\n",
      "./brats_2015/23_logs/Testing/HGG_LGG/brats_tcia_pat500_0030/VSD.Brain.XX.O.MR_T1.40810/License_CC_BY_NC_SA_3.0.txt\n",
      "Downloading License_CC_BY_NC_SA_3.0.txt to ./brats_2015/23_logs/Testing/HGG_LGG/brats_tcia_pat500_0030/VSD.Brain.XX.O.MR_T1.40810/License_CC_BY_NC_SA_3.0.txt\n",
      "Error. Likely, either downloading this file is impossible (e.g., there is no download link), or destination path does not exist.\n",
      "Done!\n",
      "./brats_2015/23_logs/Testing/HGG_LGG/brats_tcia_pat500_0030/VSD.Brain.XX.O.MR_Flair.40807\n",
      "Making ./brats_2015/23_logs/Testing/HGG_LGG/brats_tcia_pat500_0030/VSD.Brain.XX.O.MR_Flair.40807\n",
      "./brats_2015/23_logs/Testing/HGG_LGG/brats_tcia_pat500_0030/VSD.Brain.XX.O.MR_Flair.40807/VSD.Brain.XX.O.MR_Flair.40807.mha\n",
      "Downloading VSD.Brain.XX.O.MR_Flair.40807.mha to ./brats_2015/23_logs/Testing/HGG_LGG/brats_tcia_pat500_0030/VSD.Brain.XX.O.MR_Flair.40807/VSD.Brain.XX.O.MR_Flair.40807.mha\n",
      "Error. Likely, either downloading this file is impossible (e.g., there is no download link), or destination path does not exist.\n",
      "./brats_2015/23_logs/Testing/HGG_LGG/brats_tcia_pat500_0030/VSD.Brain.XX.O.MR_Flair.40807/License_CC_BY_NC_SA_3.0.txt\n",
      "Downloading License_CC_BY_NC_SA_3.0.txt to ./brats_2015/23_logs/Testing/HGG_LGG/brats_tcia_pat500_0030/VSD.Brain.XX.O.MR_Flair.40807/License_CC_BY_NC_SA_3.0.txt\n",
      "Error. Likely, either downloading this file is impossible (e.g., there is no download link), or destination path does not exist.\n",
      "Done!\n",
      "./brats_2015/23_logs/Testing/HGG_LGG/brats_tcia_pat500_0030/VSD.Brain.XX.O.MR_T2.40808\n",
      "Making ./brats_2015/23_logs/Testing/HGG_LGG/brats_tcia_pat500_0030/VSD.Brain.XX.O.MR_T2.40808\n",
      "./brats_2015/23_logs/Testing/HGG_LGG/brats_tcia_pat500_0030/VSD.Brain.XX.O.MR_T2.40808/VSD.Brain.XX.O.MR_T2.40808.mha\n",
      "Downloading VSD.Brain.XX.O.MR_T2.40808.mha to ./brats_2015/23_logs/Testing/HGG_LGG/brats_tcia_pat500_0030/VSD.Brain.XX.O.MR_T2.40808/VSD.Brain.XX.O.MR_T2.40808.mha\n",
      "Error. Likely, either downloading this file is impossible (e.g., there is no download link), or destination path does not exist.\n",
      "./brats_2015/23_logs/Testing/HGG_LGG/brats_tcia_pat500_0030/VSD.Brain.XX.O.MR_T2.40808/License_CC_BY_NC_SA_3.0.txt\n",
      "Downloading License_CC_BY_NC_SA_3.0.txt to ./brats_2015/23_logs/Testing/HGG_LGG/brats_tcia_pat500_0030/VSD.Brain.XX.O.MR_T2.40808/License_CC_BY_NC_SA_3.0.txt\n",
      "Error. Likely, either downloading this file is impossible (e.g., there is no download link), or destination path does not exist.\n",
      "Done!\n",
      "Done!\n",
      "./brats_2015/23_logs/Testing/HGG_LGG/brats_tcia_pat496_0001\n",
      "Making ./brats_2015/23_logs/Testing/HGG_LGG/brats_tcia_pat496_0001\n",
      "./brats_2015/23_logs/Testing/HGG_LGG/brats_tcia_pat496_0001/VSD.Brain.XX.O.MR_Flair.40795\n",
      "Making ./brats_2015/23_logs/Testing/HGG_LGG/brats_tcia_pat496_0001/VSD.Brain.XX.O.MR_Flair.40795\n",
      "./brats_2015/23_logs/Testing/HGG_LGG/brats_tcia_pat496_0001/VSD.Brain.XX.O.MR_Flair.40795/VSD.Brain.XX.O.MR_Flair.40795.mha\n",
      "Downloading VSD.Brain.XX.O.MR_Flair.40795.mha to ./brats_2015/23_logs/Testing/HGG_LGG/brats_tcia_pat496_0001/VSD.Brain.XX.O.MR_Flair.40795/VSD.Brain.XX.O.MR_Flair.40795.mha\n",
      "Error. Likely, either downloading this file is impossible (e.g., there is no download link), or destination path does not exist.\n",
      "./brats_2015/23_logs/Testing/HGG_LGG/brats_tcia_pat496_0001/VSD.Brain.XX.O.MR_Flair.40795/License_CC_BY_NC_SA_3.0.txt\n",
      "Downloading License_CC_BY_NC_SA_3.0.txt to ./brats_2015/23_logs/Testing/HGG_LGG/brats_tcia_pat496_0001/VSD.Brain.XX.O.MR_Flair.40795/License_CC_BY_NC_SA_3.0.txt\n",
      "Error. Likely, either downloading this file is impossible (e.g., there is no download link), or destination path does not exist.\n",
      "Done!\n",
      "./brats_2015/23_logs/Testing/HGG_LGG/brats_tcia_pat496_0001/VSD.Brain.XX.O.MR_T2.40796\n",
      "Making ./brats_2015/23_logs/Testing/HGG_LGG/brats_tcia_pat496_0001/VSD.Brain.XX.O.MR_T2.40796\n"
     ]
    }
   ],
   "source": [
    "#Takes a while!\n",
    "download_directory(brats)\n"
   ]
  },
  {
   "cell_type": "code",
   "execution_count": null,
   "metadata": {},
   "outputs": [],
   "source": []
  }
 ],
 "metadata": {
  "kernelspec": {
   "display_name": "conda_pytorch_p36",
   "language": "python",
   "name": "conda_pytorch_p36"
  },
  "language_info": {
   "codemirror_mode": {
    "name": "ipython",
    "version": 3
   },
   "file_extension": ".py",
   "mimetype": "text/x-python",
   "name": "python",
   "nbconvert_exporter": "python",
   "pygments_lexer": "ipython3",
   "version": "3.6.5"
  }
 },
 "nbformat": 4,
 "nbformat_minor": 4
}
