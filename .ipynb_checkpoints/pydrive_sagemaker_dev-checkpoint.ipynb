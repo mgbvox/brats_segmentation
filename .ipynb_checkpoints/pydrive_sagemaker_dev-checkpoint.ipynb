{
 "cells": [
  {
   "cell_type": "code",
   "execution_count": 1,
   "metadata": {},
   "outputs": [],
   "source": [
    "%load_ext autoreload\n",
    "%autoreload 2\n",
    "\n",
    "!pip install --upgrade --quiet pip\n",
    "!pip install --upgrade --quiet PyDrive\n",
    "\n",
    "\n",
    "from pydrive.auth import GoogleAuth\n",
    "from pydrive.drive import GoogleDrive\n",
    "from oauth2client.client import GoogleCredentials\n",
    "\n",
    "from pydrive.auth import GoogleAuth\n",
    "from pydrive.drive import GoogleDrive\n",
    "\n",
    "import os"
   ]
  },
  {
   "cell_type": "code",
   "execution_count": 2,
   "metadata": {},
   "outputs": [
    {
     "name": "stdout",
     "output_type": "stream",
     "text": [
      "Go to the following link in your browser:\n",
      "\n",
      "    https://accounts.google.com/o/oauth2/auth?client_id=977850366117-eo5gafndgbbjupc8mr3eq0ch0o5cdkcq.apps.googleusercontent.com&redirect_uri=urn%3Aietf%3Awg%3Aoauth%3A2.0%3Aoob&scope=https%3A%2F%2Fwww.googleapis.com%2Fauth%2Fdrive&access_type=offline&response_type=code\n",
      "\n"
     ]
    },
    {
     "name": "stdin",
     "output_type": "stream",
     "text": [
      "Enter verification code:  4/qQHGEPicLRT56DzLI2jeHhA7OUEsMzmvKU04xdTMm50gaks5R_oIHhM\n"
     ]
    },
    {
     "name": "stdout",
     "output_type": "stream",
     "text": [
      "Authentication successful.\n"
     ]
    }
   ],
   "source": [
    "gauth = GoogleAuth()\n",
    "gauth.CommandLineAuth()"
   ]
  },
  {
   "cell_type": "code",
   "execution_count": 14,
   "metadata": {},
   "outputs": [],
   "source": [
    "\n",
    "#Build data file structure.\n",
    "'''\n",
    "!mkdir -p /home/ec2-user/SageMaker/cleaned_brats/train/img\n",
    "!mkdir -p /home/ec2-user/SageMaker/cleaned_brats/train/mask\n",
    "!mkdir -p /home/ec2-user/SageMaker/cleaned_brats/valid/img\n",
    "!mkdir -p /home/ec2-user/SageMaker/cleaned_brats/valid/mask\n",
    "'''"
   ]
  },
  {
   "cell_type": "code",
   "execution_count": 3,
   "metadata": {},
   "outputs": [],
   "source": [
    "from pydrive.drive import GoogleDrive\n",
    "from pydrive_assist import File\n",
    "\n",
    "#Grab the first layer of files from Google Drive:\n",
    "drive = GoogleDrive(gauth)\n",
    "file_list = drive.ListFile({'q': \"'root' in parents and trashed=false\"}).GetList()\n",
    "files = [File(f, drive) for f in file_list]\n",
    "\n",
    "#Grab the one containing the Brats 2015 data:\n",
    "datasets_folder = files[8]\n",
    "brats_root = datasets_folder.ls()[0]\n",
    "sagemaker_root = '/home/ec2-user/SageMaker/'"
   ]
  },
  {
   "cell_type": "code",
   "execution_count": 5,
   "metadata": {},
   "outputs": [],
   "source": [
    "from IPython.display import clear_output"
   ]
  },
  {
   "cell_type": "code",
   "execution_count": 15,
   "metadata": {},
   "outputs": [],
   "source": [
    "#Recursive download function tailored to File() object type.\n",
    "def download_directory(root, ignore=[]):\n",
    "    for f in root.ls():\n",
    "        print(f.path)\n",
    "        if not any(item in f.path for item in ignore):\n",
    "            if f.is_dir:\n",
    "                if not os.path.isdir(f.path):\n",
    "                    print(f'Making {f.path}')\n",
    "                    os.mkdir(f.path)\n",
    "                download_directory(f)\n",
    "            elif f.is_file:\n",
    "                if not os.path.exists(f.path):\n",
    "                    f.download(dest=f.path)\n",
    "        clear_output()\n",
    "    print('Done!')"
   ]
  },
  {
   "cell_type": "code",
   "execution_count": 16,
   "metadata": {},
   "outputs": [],
   "source": [
    "#Already ran this!\n",
    "'''\n",
    "#Set brats path to root (for download context)\n",
    "brats_root.set_to_root()\n",
    "\n",
    "#Make parent directory\n",
    "os.mkdir(brats_root.path)\n",
    "\n",
    "#Takes a while!\n",
    "download_directory(brats_root)\n",
    "'''"
   ]
  }
 ],
 "metadata": {
  "kernelspec": {
   "display_name": "conda_pytorch_p36",
   "language": "python",
   "name": "conda_pytorch_p36"
  },
  "language_info": {
   "codemirror_mode": {
    "name": "ipython",
    "version": 3
   },
   "file_extension": ".py",
   "mimetype": "text/x-python",
   "name": "python",
   "nbconvert_exporter": "python",
   "pygments_lexer": "ipython3",
   "version": "3.6.5"
  }
 },
 "nbformat": 4,
 "nbformat_minor": 4
}
