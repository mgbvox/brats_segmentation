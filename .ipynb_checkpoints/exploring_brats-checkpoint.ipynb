{
 "cells": [
  {
   "cell_type": "code",
   "execution_count": 3,
   "metadata": {},
   "outputs": [
    {
     "name": "stdout",
     "output_type": "stream",
     "text": [
      "mkdir: cannot create directory ‘/root’: Permission denied\n",
      "mkdir: cannot create directory ‘/root’: Permission denied\n",
      "ln: failed to create symbolic link ‘/content’: Permission denied\n",
      "ln: failed to create symbolic link ‘/content’: Permission denied\n",
      "Updating fastai...\n",
      "Done.\n"
     ]
    }
   ],
   "source": [
    "#Install necessary packages.\n",
    "!curl -s https://course.fast.ai/setup/colab | bash\n",
    "!pip install --upgrade --quiet pip\n",
    "!pip install --upgrade --quiet nibabel pydicom medpy\n",
    "!pip install --upgrade --quiet SimpleITK"
   ]
  },
  {
   "cell_type": "code",
   "execution_count": 2,
   "metadata": {},
   "outputs": [
    {
     "name": "stdout",
     "output_type": "stream",
     "text": [
      "Populating the interactive namespace from numpy and matplotlib\n"
     ]
    }
   ],
   "source": [
    "%pylab inline\n",
    "import nibabel\n",
    "import pydicom\n",
    "import medpy\n",
    "import SimpleITK\n",
    "from fastai.vision import *\n",
    "import os"
   ]
  },
  {
   "cell_type": "code",
   "execution_count": 3,
   "metadata": {},
   "outputs": [],
   "source": [
    "brats_path = pathlib.Path('./brats_2015/23_logs/Testing/HGG_LGG/')"
   ]
  },
  {
   "cell_type": "code",
   "execution_count": 4,
   "metadata": {},
   "outputs": [],
   "source": [
    "mha = brats_path.ls()[0].ls()[0].ls()[0]"
   ]
  },
  {
   "cell_type": "code",
   "execution_count": 5,
   "metadata": {},
   "outputs": [],
   "source": [
    "from medpy.io import load"
   ]
  },
  {
   "cell_type": "code",
   "execution_count": 6,
   "metadata": {},
   "outputs": [],
   "source": [
    "def sitk_show(img, title=None, margin=0.0, dpi=40):\n",
    "    nda = SimpleITK.GetArrayFromImage(img)\n",
    "    #spacing = img.GetSpacing()\n",
    "    figsize = (1 + margin) * nda.shape[0] / dpi, (1 + margin) * nda.shape[1] / dpi\n",
    "    #extent = (0, nda.shape[1]*spacing[1], nda.shape[0]*spacing[0], 0)\n",
    "    extent = (0, nda.shape[1], nda.shape[0], 0)\n",
    "    fig = plt.figure(figsize=figsize, dpi=dpi)\n",
    "    ax = fig.add_axes([margin, margin, 1 - 2*margin, 1 - 2*margin])\n",
    "\n",
    "    plt.set_cmap(\"gray\")\n",
    "    ax.imshow(nda,extent=extent,interpolation=None)\n",
    "    \n",
    "    if title:\n",
    "        plt.title(title)\n",
    "    \n",
    "    plt.show()"
   ]
  },
  {
   "cell_type": "code",
   "execution_count": null,
   "metadata": {},
   "outputs": [],
   "source": []
  },
  {
   "cell_type": "code",
   "execution_count": 10,
   "metadata": {},
   "outputs": [
    {
     "data": {
      "text/plain": [
       "'./brats_2015/BRATS2015_Training/HGG/brats_tcia_pat171_0387/VSD.Brain.XX.O.MR_T2.35660/VSD.Brain.XX.O.MR_T2.35660.mha'"
      ]
     },
     "execution_count": 10,
     "metadata": {},
     "output_type": "execute_result"
    }
   ],
   "source": [
    "mha_path"
   ]
  },
  {
   "cell_type": "code",
   "execution_count": 31,
   "metadata": {},
   "outputs": [],
   "source": [
    "mha_files = []\n",
    "for path, dirs, files in os.walk('.'):\n",
    "    for f in files:\n",
    "        if '.mha' in f:\n",
    "            mha_files.append(os.path.join(path, f))\n",
    "            \n",
    "t_files = [f for f in mha_files if '_T1' in f]"
   ]
  },
  {
   "cell_type": "code",
   "execution_count": 33,
   "metadata": {},
   "outputs": [],
   "source": [
    "def load_vol(path):\n",
    "    path = str(path) #correct for Posix Path types.\n",
    "    img = SimpleITK.ReadImage(path)\n",
    "    vol = SimpleITK.GetArrayFromImage(img)\n",
    "    return vol"
   ]
  },
  {
   "cell_type": "code",
   "execution_count": 26,
   "metadata": {},
   "outputs": [],
   "source": [
    "from nipype.interfaces.ants import N4BiasFieldCorrection"
   ]
  },
  {
   "cell_type": "code",
   "execution_count": 34,
   "metadata": {},
   "outputs": [],
   "source": [
    "t_vol = load_vol(t_files[0])"
   ]
  },
  {
   "cell_type": "code",
   "execution_count": 35,
   "metadata": {},
   "outputs": [
    {
     "data": {
      "text/plain": [
       "<matplotlib.image.AxesImage at 0x7f3828a0dda0>"
      ]
     },
     "execution_count": 35,
     "metadata": {},
     "output_type": "execute_result"
    },
    {
     "data": {
      "image/png": "[encoded data removed]",
      "text/plain": [
       "<Figure size 432x288 with 1 Axes>"
      ]
     },
     "metadata": {},
     "output_type": "display_data"
    }
   ],
   "source": [
    "img = t_vol[50, :, :]\n",
    "plt.imshow(img)"
   ]
  },
  {
   "cell_type": "code",
   "execution_count": null,
   "metadata": {
    "collapsed": true,
    "jupyter": {
     "outputs_hidden": true
    }
   },
   "outputs": [
    {
     "data": {
      "text/plain": [
       "([array([240.,   0.,   0.,   0.,   0.,   0.,   0.,   0.,   0.,   0.]),\n",
       "  array([240.,   0.,   0.,   0.,   0.,   0.,   0.,   0.,   0.,   0.]),\n",
       "  array([240.,   0.,   0.,   0.,   0.,   0.,   0.,   0.,   0.,   0.]),\n",
       "  array([240.,   0.,   0.,   0.,   0.,   0.,   0.,   0.,   0.,   0.]),\n",
       "  array([240.,   0.,   0.,   0.,   0.,   0.,   0.,   0.,   0.,   0.]),\n",
       "  array([240.,   0.,   0.,   0.,   0.,   0.,   0.,   0.,   0.,   0.]),\n",
       "  array([240.,   0.,   0.,   0.,   0.,   0.,   0.,   0.,   0.,   0.]),\n",
       "  array([240.,   0.,   0.,   0.,   0.,   0.,   0.,   0.,   0.,   0.]),\n",
       "  array([240.,   0.,   0.,   0.,   0.,   0.,   0.,   0.,   0.,   0.]),\n",
       "  array([240.,   0.,   0.,   0.,   0.,   0.,   0.,   0.,   0.,   0.]),\n",
       "  array([240.,   0.,   0.,   0.,   0.,   0.,   0.,   0.,   0.,   0.]),\n",
       "  array([240.,   0.,   0.,   0.,   0.,   0.,   0.,   0.,   0.,   0.]),\n",
       "  array([240.,   0.,   0.,   0.,   0.,   0.,   0.,   0.,   0.,   0.]),\n",
       "  array([240.,   0.,   0.,   0.,   0.,   0.,   0.,   0.,   0.,   0.]),\n",
       "  array([240.,   0.,   0.,   0.,   0.,   0.,   0.,   0.,   0.,   0.]),\n",
       "  array([240.,   0.,   0.,   0.,   0.,   0.,   0.,   0.,   0.,   0.]),\n",
       "  array([240.,   0.,   0.,   0.,   0.,   0.,   0.,   0.,   0.,   0.]),\n",
       "  array([240.,   0.,   0.,   0.,   0.,   0.,   0.,   0.,   0.,   0.]),\n",
       "  array([240.,   0.,   0.,   0.,   0.,   0.,   0.,   0.,   0.,   0.]),\n",
       "  array([240.,   0.,   0.,   0.,   0.,   0.,   0.,   0.,   0.,   0.]),\n",
       "  array([240.,   0.,   0.,   0.,   0.,   0.,   0.,   0.,   0.,   0.]),\n",
       "  array([240.,   0.,   0.,   0.,   0.,   0.,   0.,   0.,   0.,   0.]),\n",
       "  array([240.,   0.,   0.,   0.,   0.,   0.,   0.,   0.,   0.,   0.]),\n",
       "  array([240.,   0.,   0.,   0.,   0.,   0.,   0.,   0.,   0.,   0.]),\n",
       "  array([240.,   0.,   0.,   0.,   0.,   0.,   0.,   0.,   0.,   0.]),\n",
       "  array([240.,   0.,   0.,   0.,   0.,   0.,   0.,   0.,   0.,   0.]),\n",
       "  array([240.,   0.,   0.,   0.,   0.,   0.,   0.,   0.,   0.,   0.]),\n",
       "  array([240.,   0.,   0.,   0.,   0.,   0.,   0.,   0.,   0.,   0.]),\n",
       "  array([240.,   0.,   0.,   0.,   0.,   0.,   0.,   0.,   0.,   0.]),\n",
       "  array([240.,   0.,   0.,   0.,   0.,   0.,   0.,   0.,   0.,   0.]),\n",
       "  array([240.,   0.,   0.,   0.,   0.,   0.,   0.,   0.,   0.,   0.]),\n",
       "  array([240.,   0.,   0.,   0.,   0.,   0.,   0.,   0.,   0.,   0.]),\n",
       "  array([240.,   0.,   0.,   0.,   0.,   0.,   0.,   0.,   0.,   0.]),\n",
       "  array([240.,   0.,   0.,   0.,   0.,   0.,   0.,   0.,   0.,   0.]),\n",
       "  array([240.,   0.,   0.,   0.,   0.,   0.,   0.,   0.,   0.,   0.]),\n",
       "  array([240.,   0.,   0.,   0.,   0.,   0.,   0.,   0.,   0.,   0.]),\n",
       "  array([240.,   0.,   0.,   0.,   0.,   0.,   0.,   0.,   0.,   0.]),\n",
       "  array([240.,   0.,   0.,   0.,   0.,   0.,   0.,   0.,   0.,   0.]),\n",
       "  array([240.,   0.,   0.,   0.,   0.,   0.,   0.,   0.,   0.,   0.]),\n",
       "  array([240.,   0.,   0.,   0.,   0.,   0.,   0.,   0.,   0.,   0.]),\n",
       "  array([240.,   0.,   0.,   0.,   0.,   0.,   0.,   0.,   0.,   0.]),\n",
       "  array([240.,   0.,   0.,   0.,   0.,   0.,   0.,   0.,   0.,   0.]),\n",
       "  array([240.,   0.,   0.,   0.,   0.,   0.,   0.,   0.,   0.,   0.]),\n",
       "  array([240.,   0.,   0.,   0.,   0.,   0.,   0.,   0.,   0.,   0.]),\n",
       "  array([240.,   0.,   0.,   0.,   0.,   0.,   0.,   0.,   0.,   0.]),\n",
       "  array([240.,   0.,   0.,   0.,   0.,   0.,   0.,   0.,   0.,   0.]),\n",
       "  array([240.,   0.,   0.,   0.,   0.,   0.,   0.,   0.,   0.,   0.]),\n",
       "  array([240.,   0.,   0.,   0.,   0.,   0.,   0.,   0.,   0.,   0.]),\n",
       "  array([240.,   0.,   0.,   0.,   0.,   0.,   0.,   0.,   0.,   0.]),\n",
       "  array([240.,   0.,   0.,   0.,   0.,   0.,   0.,   0.,   0.,   0.]),\n",
       "  array([240.,   0.,   0.,   0.,   0.,   0.,   0.,   0.,   0.,   0.]),\n",
       "  array([240.,   0.,   0.,   0.,   0.,   0.,   0.,   0.,   0.,   0.]),\n",
       "  array([240.,   0.,   0.,   0.,   0.,   0.,   0.,   0.,   0.,   0.]),\n",
       "  array([215.,   0.,   2.,  19.,   4.,   0.,   0.,   0.,   0.,   0.]),\n",
       "  array([207.,  17.,   5.,  11.,   0.,   0.,   0.,   0.,   0.,   0.]),\n",
       "  array([224.,   7.,   7.,   2.,   0.,   0.,   0.,   0.,   0.,   0.]),\n",
       "  array([209.,   7.,  24.,   0.,   0.,   0.,   0.,   0.,   0.,   0.]),\n",
       "  array([195.,   7.,   8.,  28.,   2.,   0.,   0.,   0.,   0.,   0.]),\n",
       "  array([191.,   7.,   6.,  31.,   5.,   0.,   0.,   0.,   0.,   0.]),\n",
       "  array([181.,   3.,   8.,  43.,   4.,   1.,   0.,   0.,   0.,   0.]),\n",
       "  array([178.,   4.,   5.,  50.,   3.,   0.,   0.,   0.,   0.,   0.]),\n",
       "  array([173.,   3.,   4.,  58.,   2.,   0.,   0.,   0.,   0.,   0.]),\n",
       "  array([171.,   4.,   2.,  54.,   9.,   0.,   0.,   0.,   0.,   0.]),\n",
       "  array([165.,   2.,   2.,  56.,  15.,   0.,   0.,   0.,   0.,   0.]),\n",
       "  array([165.,   1.,   1.,  48.,  25.,   0.,   0.,   0.,   0.,   0.]),\n",
       "  array([161.,   2.,   2.,  47.,  28.,   0.,   0.,   0.,   0.,   0.]),\n",
       "  array([156.,   2.,   2.,  53.,  27.,   0.,   0.,   0.,   0.,   0.]),\n",
       "  array([152.,   2.,   2.,  45.,  39.,   0.,   0.,   0.,   0.,   0.]),\n",
       "  array([150.,   2.,   2.,  41.,  45.,   0.,   0.,   0.,   0.,   0.]),\n",
       "  array([146.,   2.,   6.,  41.,  45.,   0.,   0.,   0.,   0.,   0.]),\n",
       "  array([145.,   2.,  15.,  33.,  45.,   0.,   0.,   0.,   0.,   0.]),\n",
       "  array([139.,   1.,  20.,  35.,  45.,   0.,   0.,   0.,   0.,   0.]),\n",
       "  array([136.,   2.,  23.,  35.,  44.,   0.,   0.,   0.,   0.,   0.]),\n",
       "  array([134.,   2.,  28.,  35.,  41.,   0.,   0.,   0.,   0.,   0.]),\n",
       "  array([132.,   2.,  29.,  33.,  44.,   0.,   0.,   0.,   0.,   0.]),\n",
       "  array([130.,   2.,  32.,  32.,  44.,   0.,   0.,   0.,   0.,   0.]),\n",
       "  array([130.,   1.,  36.,  25.,  48.,   0.,   0.,   0.,   0.,   0.]),\n",
       "  array([124.,   1.,  38.,  25.,  51.,   0.,   1.,   0.,   0.,   0.]),\n",
       "  array([123.,   0.,  39.,  19.,  57.,   1.,   0.,   1.,   0.,   0.]),\n",
       "  array([120.,   0.,  39.,  13.,  64.,   1.,   0.,   2.,   1.,   0.]),\n",
       "  array([119.,   1.,  38.,  10.,  69.,   0.,   0.,   1.,   1.,   1.]),\n",
       "  array([116.,   1.,  34.,  18.,  68.,   0.,   1.,   0.,   1.,   1.]),\n",
       "  array([116.,   1.,  33.,  20.,  67.,   0.,   1.,   0.,   1.,   1.]),\n",
       "  array([116.,   1.,  31.,  25.,  66.,   0.,   1.,   0.,   0.,   0.]),\n",
       "  array([115.,   0.,  34.,  27.,  63.,   0.,   1.,   0.,   0.,   0.]),\n",
       "  array([115.,   0.,  35.,  25.,  65.,   0.,   0.,   0.,   0.,   0.]),\n",
       "  array([115.,   0.,  33.,  33.,  59.,   0.,   0.,   0.,   0.,   0.]),\n",
       "  array([114.,   0.,  30.,  26.,  70.,   0.,   0.,   0.,   0.,   0.]),\n",
       "  array([113.,   0.,  31.,  26.,  70.,   0.,   0.,   0.,   0.,   0.]),\n",
       "  array([112.,   0.,  30.,  31.,  67.,   0.,   0.,   0.,   0.,   0.]),\n",
       "  array([112.,   0.,  31.,  33.,  64.,   0.,   0.,   0.,   0.,   0.]),\n",
       "  array([111.,   0.,  32.,  36.,  61.,   0.,   0.,   0.,   0.,   0.]),\n",
       "  array([111.,   0.,  31.,  40.,  58.,   0.,   0.,   0.,   0.,   0.]),\n",
       "  array([111.,   0.,  30.,  35.,  64.,   0.,   0.,   0.,   0.,   0.]),\n",
       "  array([112.,   0.,  31.,  35.,  62.,   0.,   0.,   0.,   0.,   0.]),\n",
       "  array([113.,   0.,  27.,  41.,  59.,   0.,   0.,   0.,   0.,   0.]),\n",
       "  array([112.,   0.,  22.,  51.,  55.,   0.,   0.,   0.,   0.,   0.]),\n",
       "  array([113.,   0.,  20.,  53.,  54.,   0.,   0.,   0.,   0.,   0.]),\n",
       "  array([113.,   0.,  21.,  51.,  55.,   0.,   0.,   0.,   0.,   0.]),\n",
       "  array([115.,   0.,  26.,  44.,  55.,   0.,   0.,   0.,   0.,   0.]),\n",
       "  array([117.,   0.,  23.,  43.,  57.,   0.,   0.,   0.,   0.,   0.]),\n",
       "  array([119.,   0.,  20.,  45.,  56.,   0.,   0.,   0.,   0.,   0.]),\n",
       "  array([121.,   0.,  18.,  46.,  55.,   0.,   0.,   0.,   0.,   0.]),\n",
       "  array([122.,   0.,  18.,  49.,  51.,   0.,   0.,   0.,   0.,   0.]),\n",
       "  array([123.,   0.,  20.,  47.,  49.,   1.,   0.,   0.,   0.,   0.]),\n",
       "  array([124.,   1.,  16.,  41.,  56.,   2.,   0.,   0.,   0.,   0.]),\n",
       "  array([126.,   0.,  15.,  36.,  63.,   0.,   0.,   0.,   0.,   0.]),\n",
       "  array([133.,   0.,   8.,  37.,  62.,   0.,   0.,   0.,   0.,   0.]),\n",
       "  array([140.,   1.,   2.,  30.,  67.,   0.,   0.,   0.,   0.,   0.]),\n",
       "  array([143.,   0.,   3.,  23.,  71.,   0.,   0.,   0.,   0.,   0.]),\n",
       "  array([145.,   0.,   3.,  24.,  68.,   0.,   0.,   0.,   0.,   0.]),\n",
       "  array([147.,   0.,   3.,  31.,  59.,   0.,   0.,   0.,   0.,   0.]),\n",
       "  array([147.,   0.,   2.,  35.,  56.,   0.,   0.,   0.,   0.,   0.]),\n",
       "  array([148.,   0.,   4.,  25.,  63.,   0.,   0.,   0.,   0.,   0.]),\n",
       "  array([149.,   0.,   1.,  28.,  62.,   0.,   0.,   0.,   0.,   0.]),\n",
       "  array([152.,   0.,   2.,  26.,  60.,   0.,   0.,   0.,   0.,   0.]),\n",
       "  array([153.,   0.,   6.,  27.,  54.,   0.,   0.,   0.,   0.,   0.]),\n",
       "  array([151.,   1.,  19.,  26.,  43.,   0.,   0.,   0.,   0.,   0.]),\n",
       "  array([150.,   0.,  11.,  37.,  42.,   0.,   0.,   0.,   0.,   0.]),\n",
       "  array([148.,   0.,   2.,  28.,  62.,   0.,   0.,   0.,   0.,   0.]),\n",
       "  array([147.,   0.,   2.,  24.,  66.,   1.,   0.,   0.,   0.,   0.]),\n",
       "  array([146.,   0.,   2.,  28.,  64.,   0.,   0.,   0.,   0.,   0.]),\n",
       "  array([146.,   0.,   0.,  26.,  68.,   0.,   0.,   0.,   0.,   0.]),\n",
       "  array([145.,   0.,   1.,  21.,  73.,   0.,   0.,   0.,   0.,   0.]),\n",
       "  array([142.,   1.,   2.,  21.,  74.,   0.,   0.,   0.,   0.,   0.]),\n",
       "  array([139.,   1.,   1.,  27.,  72.,   0.,   0.,   0.,   0.,   0.]),\n",
       "  array([139.,   0.,   3.,  33.,  65.,   0.,   0.,   0.,   0.,   0.]),\n",
       "  array([138.,   0.,   3.,  30.,  69.,   0.,   0.,   0.,   0.,   0.]),\n",
       "  array([138.,   0.,   6.,  20.,  76.,   0.,   0.,   0.,   0.,   0.]),\n",
       "  array([137.,   0.,   5.,  32.,  66.,   0.,   0.,   0.,   0.,   0.]),\n",
       "  array([137.,   0.,   5.,  38.,  60.,   0.,   0.,   0.,   0.,   0.]),\n",
       "  array([130.,   0.,   3.,  47.,  60.,   0.,   0.,   0.,   0.,   0.]),\n",
       "  array([131.,   0.,   4.,  55.,  50.,   0.,   0.,   0.,   0.,   0.]),\n",
       "  array([132.,   0.,   4.,  52.,  52.,   0.,   0.,   0.,   0.,   0.]),\n",
       "  array([130.,   0.,   6.,  52.,  52.,   0.,   0.,   0.,   0.,   0.]),\n",
       "  array([128.,   0.,  10.,  52.,  50.,   0.,   0.,   0.,   0.,   0.]),\n",
       "  array([127.,   0.,   7.,  54.,  52.,   0.,   0.,   0.,   0.,   0.]),\n",
       "  array([126.,   1.,   4.,  60.,  48.,   1.,   0.,   0.,   0.,   0.]),\n",
       "  array([126.,   1.,   4.,  55.,  54.,   0.,   0.,   0.,   0.,   0.]),\n",
       "  array([123.,   0.,   4.,  54.,  59.,   0.,   0.,   0.,   0.,   0.]),\n",
       "  array([124.,   0.,   5.,  41.,  70.,   0.,   0.,   0.,   0.,   0.]),\n",
       "  array([119.,   0.,   4.,  41.,  76.,   0.,   0.,   0.,   0.,   0.]),\n",
       "  array([118.,   0.,   4.,  45.,  73.,   0.,   0.,   0.,   0.,   0.]),\n",
       "  array([118.,   0.,   4.,  47.,  71.,   0.,   0.,   0.,   0.,   0.]),\n",
       "  array([118.,   0.,   8.,  43.,  71.,   0.,   0.,   0.,   0.,   0.]),\n",
       "  array([117.,   0.,   9.,  43.,  71.,   0.,   0.,   0.,   0.,   0.]),\n",
       "  array([118.,   1.,   6.,  54.,  61.,   0.,   0.,   0.,   0.,   0.]),\n",
       "  array([119.,   0.,   7.,  66.,  48.,   0.,   0.,   0.,   0.,   0.]),\n",
       "  array([119.,   0.,  12.,  63.,  46.,   0.,   0.,   0.,   0.,   0.]),\n",
       "  array([120.,   0.,  12.,  58.,  50.,   0.,   0.,   0.,   0.,   0.]),\n",
       "  array([120.,   0.,  16.,  54.,  50.,   0.,   0.,   0.,   0.,   0.]),\n",
       "  array([120.,   0.,  14.,  44.,  62.,   0.,   0.,   0.,   0.,   0.]),\n",
       "  array([120.,   0.,  12.,  47.,  61.,   0.,   0.,   0.,   0.,   0.]),\n",
       "  array([120.,   0.,  10.,  43.,  67.,   0.,   0.,   0.,   0.,   0.]),\n",
       "  array([121.,   0.,  11.,  21.,  87.,   0.,   0.,   0.,   0.,   0.]),\n",
       "  array([123.,   1.,  13.,  20.,  83.,   0.,   0.,   0.,   0.,   0.]),\n",
       "  array([123.,   0.,  13.,  25.,  79.,   0.,   0.,   0.,   0.,   0.]),\n",
       "  array([125.,   0.,  12.,  38.,  65.,   0.,   0.,   0.,   0.,   0.]),\n",
       "  array([125.,   0.,  15.,  42.,  58.,   0.,   0.,   0.,   0.,   0.]),\n",
       "  array([127.,   0.,  15.,  34.,  64.,   0.,   0.,   0.,   0.,   0.]),\n",
       "  array([127.,   5.,  11.,  22.,  75.,   0.,   0.,   0.,   0.,   0.]),\n",
       "  array([132.,   2.,  10.,  19.,  77.,   0.,   0.,   0.,   0.,   0.]),\n",
       "  array([133.,   3.,   7.,  26.,  71.,   0.,   0.,   0.,   0.,   0.]),\n",
       "  array([138.,   1.,   7.,  26.,  68.,   0.,   0.,   0.,   0.,   0.]),\n",
       "  array([139.,   2.,   4.,  34.,  61.,   0.,   0.,   0.,   0.,   0.]),\n",
       "  array([146.,   0.,   1.,  46.,  47.,   0.,   0.,   0.,   0.,   0.]),\n",
       "  array([148.,   1.,   1.,  53.,  37.,   0.,   0.,   0.,   0.,   0.]),\n",
       "  array([150.,   1.,   2.,  55.,  32.,   0.,   0.,   0.,   0.,   0.]),\n",
       "  array([151.,   1.,   4.,  58.,  26.,   0.,   0.,   0.,   0.,   0.]),\n",
       "  array([159.,   0.,   2.,  51.,  28.,   0.,   0.,   0.,   0.,   0.]),\n",
       "  array([160.,   0.,   5.,  49.,  26.,   0.,   0.,   0.,   0.,   0.]),\n",
       "  array([165.,   0.,   0.,  54.,  21.,   0.,   0.,   0.,   0.,   0.]),\n",
       "  array([166.,   0.,   1.,  53.,  20.,   0.,   0.,   0.,   0.,   0.]),\n",
       "  array([172.,   0.,   3.,  53.,  12.,   0.,   0.,   0.,   0.,   0.]),\n",
       "  array([173.,   0.,  14.,  47.,   6.,   0.,   0.,   0.,   0.,   0.]),\n",
       "  array([178.,   4.,   5.,  50.,   3.,   0.,   0.,   0.,   0.,   0.]),\n",
       "  array([181.,   3.,   4.,  50.,   2.,   0.,   0.,   0.,   0.,   0.]),\n",
       "  array([183.,   6.,  10.,  39.,   2.,   0.,   0.,   0.,   0.,   0.]),\n",
       "  array([188.,   9.,  11.,  32.,   0.,   0.,   0.,   0.,   0.,   0.]),\n",
       "  array([203.,  11.,   5.,  21.,   0.,   0.,   0.,   0.,   0.,   0.]),\n",
       "  array([217.,   1.,  15.,   7.,   0.,   0.,   0.,   0.,   0.,   0.]),\n",
       "  array([228.,   8.,   4.,   0.,   0.,   0.,   0.,   0.,   0.,   0.]),\n",
       "  array([225.,  14.,   1.,   0.,   0.,   0.,   0.,   0.,   0.,   0.]),\n",
       "  array([240.,   0.,   0.,   0.,   0.,   0.,   0.,   0.,   0.,   0.]),\n",
       "  array([240.,   0.,   0.,   0.,   0.,   0.,   0.,   0.,   0.,   0.]),\n",
       "  array([240.,   0.,   0.,   0.,   0.,   0.,   0.,   0.,   0.,   0.]),\n",
       "  array([240.,   0.,   0.,   0.,   0.,   0.,   0.,   0.,   0.,   0.]),\n",
       "  array([240.,   0.,   0.,   0.,   0.,   0.,   0.,   0.,   0.,   0.]),\n",
       "  array([240.,   0.,   0.,   0.,   0.,   0.,   0.,   0.,   0.,   0.]),\n",
       "  array([240.,   0.,   0.,   0.,   0.,   0.,   0.,   0.,   0.,   0.]),\n",
       "  array([240.,   0.,   0.,   0.,   0.,   0.,   0.,   0.,   0.,   0.]),\n",
       "  array([240.,   0.,   0.,   0.,   0.,   0.,   0.,   0.,   0.,   0.]),\n",
       "  array([240.,   0.,   0.,   0.,   0.,   0.,   0.,   0.,   0.,   0.]),\n",
       "  array([240.,   0.,   0.,   0.,   0.,   0.,   0.,   0.,   0.,   0.]),\n",
       "  array([240.,   0.,   0.,   0.,   0.,   0.,   0.,   0.,   0.,   0.]),\n",
       "  array([240.,   0.,   0.,   0.,   0.,   0.,   0.,   0.,   0.,   0.]),\n",
       "  array([240.,   0.,   0.,   0.,   0.,   0.,   0.,   0.,   0.,   0.]),\n",
       "  array([240.,   0.,   0.,   0.,   0.,   0.,   0.,   0.,   0.,   0.]),\n",
       "  array([240.,   0.,   0.,   0.,   0.,   0.,   0.,   0.,   0.,   0.]),\n",
       "  array([240.,   0.,   0.,   0.,   0.,   0.,   0.,   0.,   0.,   0.]),\n",
       "  array([240.,   0.,   0.,   0.,   0.,   0.,   0.,   0.,   0.,   0.]),\n",
       "  array([240.,   0.,   0.,   0.,   0.,   0.,   0.,   0.,   0.,   0.]),\n",
       "  array([240.,   0.,   0.,   0.,   0.,   0.,   0.,   0.,   0.,   0.]),\n",
       "  array([240.,   0.,   0.,   0.,   0.,   0.,   0.,   0.,   0.,   0.]),\n",
       "  array([240.,   0.,   0.,   0.,   0.,   0.,   0.,   0.,   0.,   0.]),\n",
       "  array([240.,   0.,   0.,   0.,   0.,   0.,   0.,   0.,   0.,   0.]),\n",
       "  array([240.,   0.,   0.,   0.,   0.,   0.,   0.,   0.,   0.,   0.]),\n",
       "  array([240.,   0.,   0.,   0.,   0.,   0.,   0.,   0.,   0.,   0.]),\n",
       "  array([240.,   0.,   0.,   0.,   0.,   0.,   0.,   0.,   0.,   0.]),\n",
       "  array([240.,   0.,   0.,   0.,   0.,   0.,   0.,   0.,   0.,   0.]),\n",
       "  array([240.,   0.,   0.,   0.,   0.,   0.,   0.,   0.,   0.,   0.]),\n",
       "  array([240.,   0.,   0.,   0.,   0.,   0.,   0.,   0.,   0.,   0.]),\n",
       "  array([240.,   0.,   0.,   0.,   0.,   0.,   0.,   0.,   0.,   0.]),\n",
       "  array([240.,   0.,   0.,   0.,   0.,   0.,   0.,   0.,   0.,   0.]),\n",
       "  array([240.,   0.,   0.,   0.,   0.,   0.,   0.,   0.,   0.,   0.]),\n",
       "  array([240.,   0.,   0.,   0.,   0.,   0.,   0.,   0.,   0.,   0.]),\n",
       "  array([240.,   0.,   0.,   0.,   0.,   0.,   0.,   0.,   0.,   0.]),\n",
       "  array([240.,   0.,   0.,   0.,   0.,   0.,   0.,   0.,   0.,   0.]),\n",
       "  array([240.,   0.,   0.,   0.,   0.,   0.,   0.,   0.,   0.,   0.]),\n",
       "  array([240.,   0.,   0.,   0.,   0.,   0.,   0.,   0.,   0.,   0.]),\n",
       "  array([240.,   0.,   0.,   0.,   0.,   0.,   0.,   0.,   0.,   0.]),\n",
       "  array([240.,   0.,   0.,   0.,   0.,   0.,   0.,   0.,   0.,   0.]),\n",
       "  array([240.,   0.,   0.,   0.,   0.,   0.,   0.,   0.,   0.,   0.]),\n",
       "  array([240.,   0.,   0.,   0.,   0.,   0.,   0.,   0.,   0.,   0.]),\n",
       "  array([240.,   0.,   0.,   0.,   0.,   0.,   0.,   0.,   0.,   0.]),\n",
       "  array([240.,   0.,   0.,   0.,   0.,   0.,   0.,   0.,   0.,   0.]),\n",
       "  array([240.,   0.,   0.,   0.,   0.,   0.,   0.,   0.,   0.,   0.]),\n",
       "  array([240.,   0.,   0.,   0.,   0.,   0.,   0.,   0.,   0.,   0.]),\n",
       "  array([240.,   0.,   0.,   0.,   0.,   0.,   0.,   0.,   0.,   0.]),\n",
       "  array([240.,   0.,   0.,   0.,   0.,   0.,   0.,   0.,   0.,   0.]),\n",
       "  array([240.,   0.,   0.,   0.,   0.,   0.,   0.,   0.,   0.,   0.]),\n",
       "  array([240.,   0.,   0.,   0.,   0.,   0.,   0.,   0.,   0.,   0.]),\n",
       "  array([240.,   0.,   0.,   0.,   0.,   0.,   0.,   0.,   0.,   0.]),\n",
       "  array([240.,   0.,   0.,   0.,   0.,   0.,   0.,   0.,   0.,   0.]),\n",
       "  array([240.,   0.,   0.,   0.,   0.,   0.,   0.,   0.,   0.,   0.]),\n",
       "  array([240.,   0.,   0.,   0.,   0.,   0.,   0.,   0.,   0.,   0.]),\n",
       "  array([240.,   0.,   0.,   0.,   0.,   0.,   0.,   0.,   0.,   0.]),\n",
       "  array([240.,   0.,   0.,   0.,   0.,   0.,   0.,   0.,   0.,   0.]),\n",
       "  array([240.,   0.,   0.,   0.,   0.,   0.,   0.,   0.,   0.,   0.]),\n",
       "  array([240.,   0.,   0.,   0.,   0.,   0.,   0.,   0.,   0.,   0.])],\n",
       " array([  0. ,  89.1, 178.2, 267.3, 356.4, 445.5, 534.6, 623.7, 712.8, 801.9, 891. ]),\n",
       " <a list of 240 Lists of Patches objects>)"
      ]
     },
     "execution_count": 36,
     "metadata": {},
     "output_type": "execute_result"
    }
   ],
   "source": [
    "img.ravel().shape()"
   ]
  },
  {
   "cell_type": "code",
   "execution_count": null,
   "metadata": {},
   "outputs": [],
   "source": []
  }
 ],
 "metadata": {
  "kernelspec": {
   "display_name": "conda_pytorch_p36",
   "language": "python",
   "name": "conda_pytorch_p36"
  },
  "language_info": {
   "codemirror_mode": {
    "name": "ipython",
    "version": 3
   },
   "file_extension": ".py",
   "mimetype": "text/x-python",
   "name": "python",
   "nbconvert_exporter": "python",
   "pygments_lexer": "ipython3",
   "version": "3.6.5"
  }
 },
 "nbformat": 4,
 "nbformat_minor": 4
}
